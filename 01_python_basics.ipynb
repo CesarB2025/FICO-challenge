{
  "cells": [
    {
      "cell_type": "markdown",
      "metadata": {
        "id": "view-in-github",
        "colab_type": "text"
      },
      "source": [
        "<a href=\"https://colab.research.google.com/github/CesarB2025/FICO-challenge/blob/main/01_python_basics.ipynb\" target=\"_parent\"><img src=\"https://colab.research.google.com/assets/colab-badge.svg\" alt=\"Open In Colab\"/></a>"
      ]
    },
    {
      "cell_type": "raw",
      "id": "3acd7342-46b3-47c8-8626-3199e761b3cd",
      "metadata": {
        "id": "3acd7342-46b3-47c8-8626-3199e761b3cd"
      },
      "source": [
        "Throughout the course, we will be using python 3.10.\n",
        "\n",
        "Google and stack overflow are your friends where you can check usages and documentations when you are not sure how to do something.\n",
        "\n",
        "Also google colab has AI which helps explain things. For example, if you want to know why the code block has errored out"
      ]
    },
    {
      "cell_type": "markdown",
      "source": [
        "First, let's do a \"hello world\" print."
      ],
      "metadata": {
        "id": "ov2JnO_G8Li3"
      },
      "id": "ov2JnO_G8Li3"
    },
    {
      "cell_type": "code",
      "execution_count": null,
      "id": "ecce8f39-4922-4502-a0d0-3a35f9ac6772",
      "metadata": {
        "colab": {
          "base_uri": "https://localhost:8080/"
        },
        "id": "ecce8f39-4922-4502-a0d0-3a35f9ac6772",
        "outputId": "6e54dd02-1dc8-414d-f7c9-4c376244cccf"
      },
      "outputs": [
        {
          "output_type": "stream",
          "name": "stdout",
          "text": [
            "Hello World!\n"
          ]
        }
      ],
      "source": [
        "# Hello World\n",
        "\n",
        "print(\"Hello World!\")"
      ]
    },
    {
      "cell_type": "raw",
      "id": "81244e12-5676-4d32-9438-fd6eb36c8a2d",
      "metadata": {
        "id": "81244e12-5676-4d32-9438-fd6eb36c8a2d"
      },
      "source": [
        "Variables and Types:\n",
        "\n",
        "Variables are used to store values in memory. Types specify how python interprets what is stored.\n",
        "\n",
        "Unlike other languages like c++ or java, you do not need to declare variables before using them, or declare their type. Every variable in Python is an object."
      ]
    },
    {
      "cell_type": "code",
      "execution_count": null,
      "id": "dd5639aa-92a5-49dc-9c02-770ffbceeb80",
      "metadata": {
        "colab": {
          "base_uri": "https://localhost:8080/"
        },
        "id": "dd5639aa-92a5-49dc-9c02-770ffbceeb80",
        "outputId": "a1fdb494-817f-46ed-a5bf-6fef38854142"
      },
      "outputs": [
        {
          "output_type": "stream",
          "name": "stdout",
          "text": [
            "7\n"
          ]
        }
      ],
      "source": [
        "# Integer\n",
        "myint = 7\n",
        "print(myint)"
      ]
    },
    {
      "cell_type": "code",
      "execution_count": null,
      "id": "19ba828d-3aab-427a-bdd2-a1759a9bf789",
      "metadata": {
        "colab": {
          "base_uri": "https://localhost:8080/"
        },
        "id": "19ba828d-3aab-427a-bdd2-a1759a9bf789",
        "outputId": "05ad0876-a170-4c6b-9976-1b2419ed66ad"
      },
      "outputs": [
        {
          "output_type": "stream",
          "name": "stdout",
          "text": [
            "7.0\n"
          ]
        }
      ],
      "source": [
        "# Float\n",
        "myfloat = 7.\n",
        "print(myfloat)"
      ]
    },
    {
      "cell_type": "code",
      "execution_count": null,
      "id": "f384c0a1-7a3c-44c4-b8be-862da22601b7",
      "metadata": {
        "colab": {
          "base_uri": "https://localhost:8080/"
        },
        "id": "f384c0a1-7a3c-44c4-b8be-862da22601b7",
        "outputId": "caa61d6a-521e-4733-da8a-17f805c62b09"
      },
      "outputs": [
        {
          "output_type": "stream",
          "name": "stdout",
          "text": [
            "hello\n"
          ]
        }
      ],
      "source": [
        "# String\n",
        "mystring = \"hello\"\n",
        "print(mystring)"
      ]
    },
    {
      "cell_type": "code",
      "execution_count": null,
      "id": "1f39be05-ddfa-4030-882f-e0e8cb16956f",
      "metadata": {
        "colab": {
          "base_uri": "https://localhost:8080/"
        },
        "id": "1f39be05-ddfa-4030-882f-e0e8cb16956f",
        "outputId": "7c1ae753-5c72-4506-c1de-21c30768a55b"
      },
      "outputs": [
        {
          "output_type": "stream",
          "name": "stdout",
          "text": [
            "3\n",
            "Hello World!\n"
          ]
        }
      ],
      "source": [
        "# Simple operation\n",
        "a = 1\n",
        "b = 2\n",
        "c = a + b\n",
        "print(c)\n",
        "\n",
        "aa = \"Hello \"\n",
        "bb = \"World!\"\n",
        "cc = aa + bb\n",
        "print(cc)"
      ]
    },
    {
      "cell_type": "raw",
      "id": "7450ed34-b772-4d69-8efb-46bbbfbb0eba",
      "metadata": {
        "id": "7450ed34-b772-4d69-8efb-46bbbfbb0eba"
      },
      "source": [
        "List: Array of objects\n",
        "\n",
        "List is a common datastucture used in python. Objects in the list can of different types."
      ]
    },
    {
      "cell_type": "code",
      "execution_count": null,
      "id": "94e1cd89-26e5-41e3-9f60-32e8f36bf01d",
      "metadata": {
        "colab": {
          "base_uri": "https://localhost:8080/"
        },
        "id": "94e1cd89-26e5-41e3-9f60-32e8f36bf01d",
        "outputId": "374e3070-baf7-4437-da2b-5389187b66af"
      },
      "outputs": [
        {
          "output_type": "stream",
          "name": "stdout",
          "text": [
            "[1, 2, 3.0, 'hello']\n",
            "3.0\n",
            "[4, 5, 6]\n"
          ]
        }
      ],
      "source": [
        "mylist = []\n",
        "mylist.append(1)\n",
        "mylist.append(2)\n",
        "mylist.append(3.)\n",
        "mylist.append(\"hello\")\n",
        "# Can be of different types\n",
        "print(mylist)\n",
        "print(mylist[2])\n",
        "mylist2 = [4, 5, 6]\n",
        "print(mylist2)"
      ]
    },
    {
      "cell_type": "markdown",
      "source": [
        "List is mutable, which means you can modify its elements"
      ],
      "metadata": {
        "id": "-jUKlvrb86Ue"
      },
      "id": "-jUKlvrb86Ue"
    },
    {
      "cell_type": "code",
      "source": [
        "mylist[2] = 10\n",
        "print(mylist)"
      ],
      "metadata": {
        "colab": {
          "base_uri": "https://localhost:8080/"
        },
        "id": "vHTmpX2I85Xd",
        "outputId": "9f584d77-bf4c-421b-f4d2-2f507f55a309"
      },
      "id": "vHTmpX2I85Xd",
      "execution_count": null,
      "outputs": [
        {
          "output_type": "stream",
          "name": "stdout",
          "text": [
            "[1, 2, 10, 'hello']\n"
          ]
        }
      ]
    },
    {
      "cell_type": "markdown",
      "source": [
        "Tuple is like list. But it is immutable"
      ],
      "metadata": {
        "id": "HCDbfdKX9Fwm"
      },
      "id": "HCDbfdKX9Fwm"
    },
    {
      "cell_type": "code",
      "source": [
        "mytuple = (1,2,3)\n",
        "print(mytuple[2])"
      ],
      "metadata": {
        "colab": {
          "base_uri": "https://localhost:8080/"
        },
        "id": "symnLbSR9FAo",
        "outputId": "c839388c-15c5-455f-a7e7-c684dec9aa43"
      },
      "id": "symnLbSR9FAo",
      "execution_count": null,
      "outputs": [
        {
          "output_type": "stream",
          "name": "stdout",
          "text": [
            "3\n"
          ]
        }
      ]
    },
    {
      "cell_type": "code",
      "source": [
        "# You should see an error\n",
        "mytuple[2] = 5"
      ],
      "metadata": {
        "colab": {
          "base_uri": "https://localhost:8080/",
          "height": 159
        },
        "id": "QUXhCbjp9NoH",
        "outputId": "7665dd9f-a60c-4303-bd0b-4b40b0c256ad"
      },
      "id": "QUXhCbjp9NoH",
      "execution_count": null,
      "outputs": [
        {
          "output_type": "error",
          "ename": "TypeError",
          "evalue": "'tuple' object does not support item assignment",
          "traceback": [
            "\u001b[0;31m---------------------------------------------------------------------------\u001b[0m",
            "\u001b[0;31mTypeError\u001b[0m                                 Traceback (most recent call last)",
            "\u001b[0;32m<ipython-input-8-16fd738bfe93>\u001b[0m in \u001b[0;36m<cell line: 2>\u001b[0;34m()\u001b[0m\n\u001b[1;32m      1\u001b[0m \u001b[0;31m# You should see an error\u001b[0m\u001b[0;34m\u001b[0m\u001b[0;34m\u001b[0m\u001b[0m\n\u001b[0;32m----> 2\u001b[0;31m \u001b[0mmytuple\u001b[0m\u001b[0;34m[\u001b[0m\u001b[0;36m2\u001b[0m\u001b[0;34m]\u001b[0m \u001b[0;34m=\u001b[0m \u001b[0;36m5\u001b[0m\u001b[0;34m\u001b[0m\u001b[0;34m\u001b[0m\u001b[0m\n\u001b[0m",
            "\u001b[0;31mTypeError\u001b[0m: 'tuple' object does not support item assignment"
          ]
        }
      ]
    },
    {
      "cell_type": "raw",
      "id": "88711a83-c0b7-45fc-8aed-1dbcbfb75bce",
      "metadata": {
        "id": "88711a83-c0b7-45fc-8aed-1dbcbfb75bce"
      },
      "source": [
        "Basic Operations"
      ]
    },
    {
      "cell_type": "code",
      "execution_count": null,
      "id": "0a6e287e-48a7-405b-8103-906891ea3876",
      "metadata": {
        "colab": {
          "base_uri": "https://localhost:8080/"
        },
        "id": "0a6e287e-48a7-405b-8103-906891ea3876",
        "outputId": "ceca0988-6d84-48c9-f77b-5732191a0717"
      },
      "outputs": [
        {
          "output_type": "stream",
          "name": "stdout",
          "text": [
            "2.5\n"
          ]
        }
      ],
      "source": [
        "number = 1 + 2 * 3 / 4.0\n",
        "print(number)"
      ]
    },
    {
      "cell_type": "code",
      "execution_count": null,
      "id": "c8ed1634-1f7e-4abe-835c-b482f58edacd",
      "metadata": {
        "colab": {
          "base_uri": "https://localhost:8080/"
        },
        "id": "c8ed1634-1f7e-4abe-835c-b482f58edacd",
        "outputId": "78b8e028-b592-488e-d28b-d292f79ba346"
      },
      "outputs": [
        {
          "output_type": "stream",
          "name": "stdout",
          "text": [
            "2\n"
          ]
        }
      ],
      "source": [
        "remainder = 11 % 3\n",
        "print(remainder)"
      ]
    },
    {
      "cell_type": "code",
      "execution_count": null,
      "id": "446a114a-2827-48dc-af1a-7c775f6e17ca",
      "metadata": {
        "colab": {
          "base_uri": "https://localhost:8080/"
        },
        "id": "446a114a-2827-48dc-af1a-7c775f6e17ca",
        "outputId": "6c969790-d428-4bb4-f399-323e8abb77eb"
      },
      "outputs": [
        {
          "output_type": "stream",
          "name": "stdout",
          "text": [
            "49\n",
            "8\n"
          ]
        }
      ],
      "source": [
        "squared = 7 ** 2\n",
        "cubed = 2 ** 3\n",
        "print(squared)\n",
        "print(cubed)"
      ]
    },
    {
      "cell_type": "markdown",
      "source": [
        "Basic String Operations"
      ],
      "metadata": {
        "id": "sqTV6rHn9jYK"
      },
      "id": "sqTV6rHn9jYK"
    },
    {
      "cell_type": "code",
      "execution_count": null,
      "id": "e8f956cd-76a0-44a0-a5fa-dd3b93e756b7",
      "metadata": {
        "colab": {
          "base_uri": "https://localhost:8080/"
        },
        "id": "e8f956cd-76a0-44a0-a5fa-dd3b93e756b7",
        "outputId": "0ad05a74-5752-4088-bc38-cfa939927d10"
      },
      "outputs": [
        {
          "output_type": "stream",
          "name": "stdout",
          "text": [
            "hello world\n"
          ]
        }
      ],
      "source": [
        "helloworld = \"hello\" + \" \" + \"world\"\n",
        "print(helloworld)"
      ]
    },
    {
      "cell_type": "code",
      "execution_count": null,
      "id": "c13f217c-9f36-45a0-bef2-6038da24255b",
      "metadata": {
        "colab": {
          "base_uri": "https://localhost:8080/"
        },
        "id": "c13f217c-9f36-45a0-bef2-6038da24255b",
        "outputId": "f965a61c-71f0-4cfb-865f-4e3b16e5d1f7"
      },
      "outputs": [
        {
          "output_type": "stream",
          "name": "stdout",
          "text": [
            "hellohellohellohellohellohellohellohellohellohello\n"
          ]
        }
      ],
      "source": [
        "lotsofhellos = \"hello\" * 10\n",
        "print(lotsofhellos)"
      ]
    },
    {
      "cell_type": "markdown",
      "source": [
        "List Operations"
      ],
      "metadata": {
        "id": "7z9l2Zbs9nhO"
      },
      "id": "7z9l2Zbs9nhO"
    },
    {
      "cell_type": "code",
      "execution_count": null,
      "id": "44306cf1-2fb8-4cea-874c-ee6425d8bc8d",
      "metadata": {
        "colab": {
          "base_uri": "https://localhost:8080/"
        },
        "id": "44306cf1-2fb8-4cea-874c-ee6425d8bc8d",
        "outputId": "fd9f6730-0b82-4306-e2b0-38e4b07e029b"
      },
      "outputs": [
        {
          "output_type": "stream",
          "name": "stdout",
          "text": [
            "[1, 3, 5, 7, 2, 4, 6, 8]\n"
          ]
        }
      ],
      "source": [
        "even_numbers = [2,4,6,8]\n",
        "odd_numbers = [1,3,5,7]\n",
        "all_numbers = odd_numbers + even_numbers\n",
        "print(all_numbers)"
      ]
    },
    {
      "cell_type": "code",
      "execution_count": null,
      "id": "984861a5-eec0-477c-96c8-345dcd0ca63f",
      "metadata": {
        "colab": {
          "base_uri": "https://localhost:8080/"
        },
        "id": "984861a5-eec0-477c-96c8-345dcd0ca63f",
        "outputId": "426ba913-cdc5-4a10-c524-ec77b138cf88"
      },
      "outputs": [
        {
          "output_type": "stream",
          "name": "stdout",
          "text": [
            "[1, 2, 3, 1, 2, 3, 1, 2, 3]\n"
          ]
        }
      ],
      "source": [
        "print([1,2,3] * 3)"
      ]
    },
    {
      "cell_type": "raw",
      "id": "efa4c9a7-8e2d-4673-9814-a4b3b81c6373",
      "metadata": {
        "id": "efa4c9a7-8e2d-4673-9814-a4b3b81c6373"
      },
      "source": [
        "String formatting\n",
        "\n",
        "%s - String (or any object with a string representation, like numbers)\n",
        "\n",
        "%d - Integers\n",
        "\n",
        "%f - Floating point numbers\n",
        "\n",
        "%.<number of digits>f - Floating point numbers with a fixed amount of digits to the right of the dot."
      ]
    },
    {
      "cell_type": "code",
      "execution_count": null,
      "id": "f3e10d2e-41c8-42c6-ae37-93adf7bc4617",
      "metadata": {
        "colab": {
          "base_uri": "https://localhost:8080/"
        },
        "id": "f3e10d2e-41c8-42c6-ae37-93adf7bc4617",
        "outputId": "546618b5-944d-4efa-ad50-50eede937795"
      },
      "outputs": [
        {
          "output_type": "stream",
          "name": "stdout",
          "text": [
            "Hello, John!\n"
          ]
        }
      ],
      "source": [
        "name = \"John\"\n",
        "print(\"Hello, %s!\" % name)"
      ]
    },
    {
      "cell_type": "code",
      "execution_count": null,
      "id": "55b9b9bf-305b-422d-b574-53d0910c533a",
      "metadata": {
        "colab": {
          "base_uri": "https://localhost:8080/"
        },
        "id": "55b9b9bf-305b-422d-b574-53d0910c533a",
        "outputId": "31e345fc-310d-4fdc-f34a-7acebb47b529"
      },
      "outputs": [
        {
          "output_type": "stream",
          "name": "stdout",
          "text": [
            "John is 23 years old.\n"
          ]
        }
      ],
      "source": [
        "name = \"John\"\n",
        "age = 23\n",
        "print(\"%s is %d years old.\" % (name, age))"
      ]
    },
    {
      "cell_type": "code",
      "execution_count": null,
      "id": "0ce78b8e-c651-4dad-9551-0fdc35921acc",
      "metadata": {
        "colab": {
          "base_uri": "https://localhost:8080/"
        },
        "id": "0ce78b8e-c651-4dad-9551-0fdc35921acc",
        "outputId": "f1afa901-b778-4dba-f641-807788b01bfc"
      },
      "outputs": [
        {
          "output_type": "stream",
          "name": "stdout",
          "text": [
            "A list: [1, 2, 3]\n"
          ]
        }
      ],
      "source": [
        "mylist = [1,2,3]\n",
        "print(\"A list: %s\" % mylist)"
      ]
    },
    {
      "cell_type": "code",
      "execution_count": null,
      "id": "eebac709-6c41-4151-9525-5cc492b41a87",
      "metadata": {
        "colab": {
          "base_uri": "https://localhost:8080/"
        },
        "id": "eebac709-6c41-4151-9525-5cc492b41a87",
        "outputId": "fa3f1215-6f1f-4e44-d055-dad74dbd1bfe"
      },
      "outputs": [
        {
          "output_type": "stream",
          "name": "stdout",
          "text": [
            "3 digit precision: 2.000\n"
          ]
        }
      ],
      "source": [
        "myfloat = 2.0\n",
        "print(\"3 digit precision: %.3f\" % myfloat)"
      ]
    },
    {
      "cell_type": "raw",
      "id": "dba32c16-b551-4c13-a8e1-e53bf7310d0f",
      "metadata": {
        "id": "dba32c16-b551-4c13-a8e1-e53bf7310d0f"
      },
      "source": [
        "Basic string methods"
      ]
    },
    {
      "cell_type": "code",
      "execution_count": null,
      "id": "09e87e08-83ef-4431-9ce0-e071d7d5b239",
      "metadata": {
        "colab": {
          "base_uri": "https://localhost:8080/"
        },
        "id": "09e87e08-83ef-4431-9ce0-e071d7d5b239",
        "outputId": "769c4de7-8653-4b1e-b472-95e6b47e59b2"
      },
      "outputs": [
        {
          "output_type": "stream",
          "name": "stdout",
          "text": [
            "12\n"
          ]
        }
      ],
      "source": [
        "astring = \"Hello world!\"\n",
        "print(len(astring)) # Length of string"
      ]
    },
    {
      "cell_type": "code",
      "execution_count": null,
      "id": "98e8cc87-912b-458d-a031-85ce2cdb89c8",
      "metadata": {
        "colab": {
          "base_uri": "https://localhost:8080/"
        },
        "id": "98e8cc87-912b-458d-a031-85ce2cdb89c8",
        "outputId": "63107b64-59fa-45b1-a230-fcd1a5f66775"
      },
      "outputs": [
        {
          "output_type": "stream",
          "name": "stdout",
          "text": [
            "2\n"
          ]
        }
      ],
      "source": [
        "print(astring.index('l')) # Show the index of the first occurance of the patttern"
      ]
    },
    {
      "cell_type": "code",
      "execution_count": null,
      "id": "3c91f10a-5542-4ca5-be59-02a12e199a58",
      "metadata": {
        "colab": {
          "base_uri": "https://localhost:8080/"
        },
        "id": "3c91f10a-5542-4ca5-be59-02a12e199a58",
        "outputId": "e4bdee04-bcdb-452d-bbd2-69f4a0f241f3"
      },
      "outputs": [
        {
          "output_type": "stream",
          "name": "stdout",
          "text": [
            "3\n"
          ]
        }
      ],
      "source": [
        "print(astring.count(\"l\")) # Count the number of occurences"
      ]
    },
    {
      "cell_type": "code",
      "execution_count": null,
      "id": "096bbd8e-9769-4e46-83d0-cf70ba37cb9f",
      "metadata": {
        "colab": {
          "base_uri": "https://localhost:8080/"
        },
        "id": "096bbd8e-9769-4e46-83d0-cf70ba37cb9f",
        "outputId": "ef5346af-c983-4853-c0b6-034faa04afca"
      },
      "outputs": [
        {
          "output_type": "stream",
          "name": "stdout",
          "text": [
            "lo w\n"
          ]
        }
      ],
      "source": [
        "print(astring[3:7]) # Subindex"
      ]
    },
    {
      "cell_type": "code",
      "execution_count": null,
      "id": "42ff9c9f-37b5-40b2-accb-361eb40b6178",
      "metadata": {
        "colab": {
          "base_uri": "https://localhost:8080/"
        },
        "id": "42ff9c9f-37b5-40b2-accb-361eb40b6178",
        "outputId": "ce0c1c63-68db-48c4-ec38-cd362a307fc1"
      },
      "outputs": [
        {
          "output_type": "stream",
          "name": "stdout",
          "text": [
            "Hello world\n"
          ]
        }
      ],
      "source": [
        "print(astring[:-1]) # Exclude the last character"
      ]
    },
    {
      "cell_type": "code",
      "execution_count": null,
      "id": "bd233504-46fe-4cbf-bb8d-e4a5aa174f5a",
      "metadata": {
        "colab": {
          "base_uri": "https://localhost:8080/"
        },
        "id": "bd233504-46fe-4cbf-bb8d-e4a5aa174f5a",
        "outputId": "b185b255-a852-436e-d1c2-017f9b011626"
      },
      "outputs": [
        {
          "output_type": "stream",
          "name": "stdout",
          "text": [
            "!dlrow olleH\n"
          ]
        }
      ],
      "source": [
        "print(astring[::-1]) # Reverse"
      ]
    },
    {
      "cell_type": "code",
      "execution_count": null,
      "id": "b9cd4a13-2f08-4b00-98d6-4590b31a9898",
      "metadata": {
        "colab": {
          "base_uri": "https://localhost:8080/"
        },
        "id": "b9cd4a13-2f08-4b00-98d6-4590b31a9898",
        "outputId": "6dacbd26-63c2-4249-a337-d295d4e8a5cb"
      },
      "outputs": [
        {
          "output_type": "stream",
          "name": "stdout",
          "text": [
            "HELLO WORLD!\n"
          ]
        }
      ],
      "source": [
        "print(astring.upper()) # Upper case"
      ]
    },
    {
      "cell_type": "code",
      "execution_count": null,
      "id": "5e233660-4f9a-4f63-aa37-0921e53c393f",
      "metadata": {
        "colab": {
          "base_uri": "https://localhost:8080/"
        },
        "id": "5e233660-4f9a-4f63-aa37-0921e53c393f",
        "outputId": "d5cd6218-52a4-4369-a188-b2d950067197"
      },
      "outputs": [
        {
          "output_type": "stream",
          "name": "stdout",
          "text": [
            "hello world!\n"
          ]
        }
      ],
      "source": [
        "print(astring.lower()) # lower case"
      ]
    },
    {
      "cell_type": "code",
      "execution_count": null,
      "id": "fe4613cf-92d2-49e9-8985-a5ef0b2d766d",
      "metadata": {
        "colab": {
          "base_uri": "https://localhost:8080/"
        },
        "id": "fe4613cf-92d2-49e9-8985-a5ef0b2d766d",
        "outputId": "463a8c5b-e4b5-4c33-8c4d-cf16875350c8"
      },
      "outputs": [
        {
          "output_type": "stream",
          "name": "stdout",
          "text": [
            "True\n",
            "False\n"
          ]
        }
      ],
      "source": [
        "# Check conditions and return a boolean value (Boolean values can only be True and False)\n",
        "print(astring.startswith(\"Hello\"))\n",
        "print(astring.endswith(\"NO\"))"
      ]
    },
    {
      "cell_type": "code",
      "execution_count": null,
      "id": "19479c81-672a-4d91-8636-bb3ba9ff1f9d",
      "metadata": {
        "colab": {
          "base_uri": "https://localhost:8080/"
        },
        "id": "19479c81-672a-4d91-8636-bb3ba9ff1f9d",
        "outputId": "cca3dbde-25d3-4173-f588-af6a6856e935"
      },
      "outputs": [
        {
          "output_type": "stream",
          "name": "stdout",
          "text": [
            "['Hello', 'world!']\n"
          ]
        }
      ],
      "source": [
        "alist = astring.split(\" \") # Split the string using the pattern and turn parts to a list\n",
        "print(alist)"
      ]
    },
    {
      "cell_type": "markdown",
      "id": "69e8d3c9-74e4-4444-b89c-e88ddcb9df7c",
      "metadata": {
        "id": "69e8d3c9-74e4-4444-b89c-e88ddcb9df7c"
      },
      "source": [
        "Conditions\n",
        "\n",
        "and: True and True is True; True and False is False; False and True is False; False and False is False\n",
        "\n",
        "or: True or True is True; True or False is True; False or True is True; False or False is False\n",
        "\n",
        "not: Not True is False; Not False is True"
      ]
    },
    {
      "cell_type": "code",
      "execution_count": null,
      "id": "c3ef11d9-48ad-4c48-baa3-e15ab285c618",
      "metadata": {
        "colab": {
          "base_uri": "https://localhost:8080/"
        },
        "id": "c3ef11d9-48ad-4c48-baa3-e15ab285c618",
        "outputId": "6eaa1bf0-d053-4080-f491-a7dac44c1e7e"
      },
      "outputs": [
        {
          "output_type": "stream",
          "name": "stdout",
          "text": [
            "True\n",
            "True\n",
            "False\n",
            "False\n"
          ]
        }
      ],
      "source": [
        "print(1 < 2)\n",
        "print(1 <= 2)\n",
        "print(1 == 2)\n",
        "print(1 + 2 >= 5)"
      ]
    },
    {
      "cell_type": "code",
      "execution_count": null,
      "id": "5bd09a17-3d6b-4d83-b9d7-4d1d10312614",
      "metadata": {
        "colab": {
          "base_uri": "https://localhost:8080/"
        },
        "id": "5bd09a17-3d6b-4d83-b9d7-4d1d10312614",
        "outputId": "c00c3959-3053-4078-f674-9019865e8ee0"
      },
      "outputs": [
        {
          "output_type": "stream",
          "name": "stdout",
          "text": [
            "My name is john and I'm 23 years old\n",
            "My name is john or I'm 24 years old\n"
          ]
        }
      ],
      "source": [
        "name = \"John\"\n",
        "age = 23\n",
        "\n",
        "if name == \"John\" and age == 23:\n",
        "    print(\"My name is john and I'm 23 years old\")\n",
        "else:\n",
        "    print(\"Should not print\")\n",
        "\n",
        "if name == \"John\" or age == 24:\n",
        "    print(\"My name is john or I'm 24 years old\")\n",
        "else:\n",
        "    print(\"Should not print\")"
      ]
    },
    {
      "cell_type": "code",
      "execution_count": null,
      "id": "724ce262-71b2-4821-935e-2d8e20745e3f",
      "metadata": {
        "colab": {
          "base_uri": "https://localhost:8080/"
        },
        "id": "724ce262-71b2-4821-935e-2d8e20745e3f",
        "outputId": "e1dbfb04-735d-413b-a637-9352bbf8ef48"
      },
      "outputs": [
        {
          "output_type": "stream",
          "name": "stdout",
          "text": [
            "My name is one of John, Nick, and David\n"
          ]
        }
      ],
      "source": [
        "if name in [\"John\", \"Nick\", \"David\"]:\n",
        "    print(\"My name is one of John, Nick, and David\")"
      ]
    },
    {
      "cell_type": "code",
      "execution_count": null,
      "id": "c68ace88-4568-400e-aaa7-fef56a7bb3c5",
      "metadata": {
        "colab": {
          "base_uri": "https://localhost:8080/"
        },
        "id": "c68ace88-4568-400e-aaa7-fef56a7bb3c5",
        "outputId": "a603948e-4017-4088-f196-350c30be0d1e"
      },
      "outputs": [
        {
          "output_type": "stream",
          "name": "stdout",
          "text": [
            "True\n",
            "False\n",
            "True\n"
          ]
        }
      ],
      "source": [
        "x = [1, 2, 3]\n",
        "y = [1, 2, 3]\n",
        "print(x==y) # Check the values\n",
        "print(x is y) # Check if x and y are the same instance. They are not because they are two objects instantiated at different locations in memory\n",
        "z = x\n",
        "print(x is z)"
      ]
    },
    {
      "cell_type": "code",
      "execution_count": null,
      "id": "728473eb-addc-4c0e-bfe3-d79ec0f4f3ee",
      "metadata": {
        "colab": {
          "base_uri": "https://localhost:8080/"
        },
        "id": "728473eb-addc-4c0e-bfe3-d79ec0f4f3ee",
        "outputId": "46a2aead-b981-42be-c718-f2ef1ba10d44"
      },
      "outputs": [
        {
          "output_type": "stream",
          "name": "stdout",
          "text": [
            "[123, 2, 3] [1, 2, 3] [123, 2, 3]\n"
          ]
        }
      ],
      "source": [
        "x[0] = 123\n",
        "print(x, y, z)\n",
        "# Think why you see this behavior:\n",
        "# x does not change because it's a different instance. z also changes because z and x points to the same instance."
      ]
    },
    {
      "cell_type": "raw",
      "id": "ec3df10d-73b4-4961-86be-d0189768d54a",
      "metadata": {
        "id": "ec3df10d-73b4-4961-86be-d0189768d54a"
      },
      "source": [
        "Loops:\n",
        "\n",
        "\"for\" loop\n",
        "\n",
        "\"while\" loop"
      ]
    },
    {
      "cell_type": "code",
      "execution_count": null,
      "id": "e615ab4d-7b63-446d-acac-70b8cc4a3f22",
      "metadata": {
        "colab": {
          "base_uri": "https://localhost:8080/"
        },
        "id": "e615ab4d-7b63-446d-acac-70b8cc4a3f22",
        "outputId": "e87f8afa-e486-4a47-bfc5-e4a321f9e423"
      },
      "outputs": [
        {
          "output_type": "stream",
          "name": "stdout",
          "text": [
            "1\n",
            "2\n",
            "3\n",
            "4\n",
            "5\n"
          ]
        }
      ],
      "source": [
        "for number in [1,2,3,4,5]:\n",
        "    print(number)"
      ]
    },
    {
      "cell_type": "code",
      "execution_count": null,
      "id": "bc562228-39ea-4af8-b64c-35af5c0a5d5a",
      "metadata": {
        "colab": {
          "base_uri": "https://localhost:8080/"
        },
        "id": "bc562228-39ea-4af8-b64c-35af5c0a5d5a",
        "outputId": "ebc68c31-f5ed-4a2c-dfae-e18481b6f31a"
      },
      "outputs": [
        {
          "output_type": "stream",
          "name": "stdout",
          "text": [
            "H\n",
            "e\n",
            "l\n",
            "l\n",
            "o\n",
            " \n",
            "W\n",
            "o\n",
            "r\n",
            "l\n",
            "d\n",
            "s\n"
          ]
        }
      ],
      "source": [
        "for char in \"Hello Worlds\":\n",
        "    print(char)"
      ]
    },
    {
      "cell_type": "code",
      "execution_count": null,
      "id": "fcc0da66-3d98-4369-a1c1-f637169e5723",
      "metadata": {
        "colab": {
          "base_uri": "https://localhost:8080/"
        },
        "id": "fcc0da66-3d98-4369-a1c1-f637169e5723",
        "outputId": "1ff82bb9-8ca9-4513-d84f-ebb7bab7ed01"
      },
      "outputs": [
        {
          "output_type": "stream",
          "name": "stdout",
          "text": [
            "0\n",
            "1\n",
            "2\n",
            "3\n",
            "4\n"
          ]
        }
      ],
      "source": [
        "for x in range(5): # Start from 0. Does not include 5.\n",
        "    print(x)"
      ]
    },
    {
      "cell_type": "code",
      "execution_count": null,
      "id": "af60d601-6506-4d46-84e8-3ebe719f1e4e",
      "metadata": {
        "colab": {
          "base_uri": "https://localhost:8080/"
        },
        "id": "af60d601-6506-4d46-84e8-3ebe719f1e4e",
        "outputId": "2d696c78-eac4-44ac-aa65-26682bd8feff"
      },
      "outputs": [
        {
          "output_type": "stream",
          "name": "stdout",
          "text": [
            "3\n",
            "5\n"
          ]
        }
      ],
      "source": [
        "for x in range(3,6): # Include 3 but not 6.\n",
        "    if x % 2 == 0:\n",
        "        continue # Does not print even number and continues to next iteration in the loop\n",
        "    print(x)"
      ]
    },
    {
      "cell_type": "code",
      "execution_count": null,
      "id": "e003f6cb-98a6-47d1-9d32-89519952f768",
      "metadata": {
        "colab": {
          "base_uri": "https://localhost:8080/"
        },
        "id": "e003f6cb-98a6-47d1-9d32-89519952f768",
        "outputId": "7c0b0703-9d98-44ec-9b23-f8164d5d0554"
      },
      "outputs": [
        {
          "output_type": "stream",
          "name": "stdout",
          "text": [
            "3\n",
            "5\n",
            "7\n"
          ]
        }
      ],
      "source": [
        "for x in range(3,8,2):\n",
        "  # iterate from 3 to 7 with interval 2\n",
        "    print(x)"
      ]
    },
    {
      "cell_type": "code",
      "execution_count": null,
      "id": "94ba9f01-b3bb-4c77-9008-5656889313d7",
      "metadata": {
        "colab": {
          "base_uri": "https://localhost:8080/"
        },
        "id": "94ba9f01-b3bb-4c77-9008-5656889313d7",
        "outputId": "541f80a4-e8bc-480b-f260-8dbbfc316b30"
      },
      "outputs": [
        {
          "output_type": "stream",
          "name": "stdout",
          "text": [
            "0\n",
            "1\n",
            "2\n",
            "3\n",
            "We break at 4\n"
          ]
        }
      ],
      "source": [
        "count = 0\n",
        "while count < 5:\n",
        "    if count == 4:\n",
        "        print(\"We break at 4\")\n",
        "        break # Break the loop\n",
        "    print(count)\n",
        "    count += 1"
      ]
    },
    {
      "cell_type": "raw",
      "id": "ebce6418-7cb0-4310-a569-a831d5e3aa1d",
      "metadata": {
        "id": "ebce6418-7cb0-4310-a569-a831d5e3aa1d"
      },
      "source": [
        "Functions: Convenient way to divide code into useful blocks.\n",
        "\n",
        "Variables inside the function are local (will be out of scope if the function is finished, which means you no longer have access to it and its memory will be released)"
      ]
    },
    {
      "cell_type": "code",
      "execution_count": null,
      "id": "5f4e1095-1d26-4ef2-9b46-125cf14cc5db",
      "metadata": {
        "id": "5f4e1095-1d26-4ef2-9b46-125cf14cc5db"
      },
      "outputs": [],
      "source": [
        "def my_function(x):\n",
        "    print(\"This function prints out %s\" % x)"
      ]
    },
    {
      "cell_type": "code",
      "execution_count": null,
      "id": "1d11b31f-3ef6-429e-a072-e8ef87ad1514",
      "metadata": {
        "colab": {
          "base_uri": "https://localhost:8080/"
        },
        "id": "1d11b31f-3ef6-429e-a072-e8ef87ad1514",
        "outputId": "d32a136b-3031-4f65-9c91-d50330fc0db7"
      },
      "outputs": [
        {
          "output_type": "stream",
          "name": "stdout",
          "text": [
            "This function prints out 3\n"
          ]
        }
      ],
      "source": [
        "my_function(3)"
      ]
    },
    {
      "cell_type": "code",
      "execution_count": null,
      "id": "d392f8e6-0960-42ff-a259-ca67cbcfc2e1",
      "metadata": {
        "id": "d392f8e6-0960-42ff-a259-ca67cbcfc2e1"
      },
      "outputs": [],
      "source": [
        "def sum_two_numbers(number1, number2):\n",
        "    return number1 + number2"
      ]
    },
    {
      "cell_type": "code",
      "execution_count": null,
      "id": "6660376e-7804-4745-aaf7-a3dca8b3b244",
      "metadata": {
        "colab": {
          "base_uri": "https://localhost:8080/"
        },
        "id": "6660376e-7804-4745-aaf7-a3dca8b3b244",
        "outputId": "aa5f2cdb-0ca1-4f6f-e224-f60004eed00e"
      },
      "outputs": [
        {
          "output_type": "execute_result",
          "data": {
            "text/plain": [
              "9"
            ]
          },
          "metadata": {},
          "execution_count": 41
        }
      ],
      "source": [
        "sum_two_numbers(3,6)"
      ]
    },
    {
      "cell_type": "code",
      "execution_count": null,
      "id": "43a038d2-d0e0-41a7-88f2-afd67e5dbfa4",
      "metadata": {
        "colab": {
          "base_uri": "https://localhost:8080/",
          "height": 141
        },
        "id": "43a038d2-d0e0-41a7-88f2-afd67e5dbfa4",
        "outputId": "833c3700-c0d9-48df-b679-ff480c721d82"
      },
      "outputs": [
        {
          "output_type": "error",
          "ename": "NameError",
          "evalue": "name 'number1' is not defined",
          "traceback": [
            "\u001b[0;31m---------------------------------------------------------------------------\u001b[0m",
            "\u001b[0;31mNameError\u001b[0m                                 Traceback (most recent call last)",
            "\u001b[0;32m<ipython-input-42-c7e521aa14f8>\u001b[0m in \u001b[0;36m<cell line: 1>\u001b[0;34m()\u001b[0m\n\u001b[0;32m----> 1\u001b[0;31m \u001b[0mprint\u001b[0m\u001b[0;34m(\u001b[0m\u001b[0mnumber1\u001b[0m\u001b[0;34m)\u001b[0m \u001b[0;31m# Should error out because number1 is local to the function, not outside the function\u001b[0m\u001b[0;34m\u001b[0m\u001b[0;34m\u001b[0m\u001b[0m\n\u001b[0m",
            "\u001b[0;31mNameError\u001b[0m: name 'number1' is not defined"
          ]
        }
      ],
      "source": [
        "print(number1) # Should error out because number1 is local to the function, not outside the function"
      ]
    },
    {
      "cell_type": "raw",
      "id": "e34e60e0-02f6-4539-b34a-fe072463c8a0",
      "metadata": {
        "id": "e34e60e0-02f6-4539-b34a-fe072463c8a0"
      },
      "source": [
        "Classes and Objects\n",
        "\n",
        "Objects are an encapsulation of variables and functions into a single entity. Objects get their variables and functions from classes. Classes are essentially a template to create your objects.\n",
        "\n",
        "Analogy: Class is like the blue print to build a car. Object is the actual car. You can have different objects(cars) on the street that are built with the same class (like honda accord 2022). Each object(car) have wheels (members) and if you press the gas pedal, the car moves forward (methods, which are functions inside an object)"
      ]
    },
    {
      "cell_type": "code",
      "execution_count": null,
      "id": "afeb975a-3cbb-4b27-ae9a-2cc36bf21a26",
      "metadata": {
        "id": "afeb975a-3cbb-4b27-ae9a-2cc36bf21a26"
      },
      "outputs": [],
      "source": [
        "class MyClass:\n",
        "    def __init__(self, number):\n",
        "      #__init__ is called when the class object is instantiated\n",
        "        self.number = number\n",
        "\n",
        "    def print_number(self):\n",
        "      # This is a class method that you can call on the object\n",
        "        print(self.number)"
      ]
    },
    {
      "cell_type": "code",
      "execution_count": null,
      "id": "7c236222-69bb-41c0-9691-cf2c90ab2616",
      "metadata": {
        "colab": {
          "base_uri": "https://localhost:8080/"
        },
        "id": "7c236222-69bb-41c0-9691-cf2c90ab2616",
        "outputId": "8b964557-259c-4ac6-d08f-4f1009e62eb4"
      },
      "outputs": [
        {
          "output_type": "stream",
          "name": "stdout",
          "text": [
            "2\n",
            "3\n"
          ]
        }
      ],
      "source": [
        "myObject1 = MyClass(2)\n",
        "myObject2 = MyClass(3)\n",
        "myObject1.print_number()\n",
        "myObject2.print_number()"
      ]
    },
    {
      "cell_type": "raw",
      "id": "1e33e567-7156-4287-b4d7-d0a9001d197a",
      "metadata": {
        "id": "1e33e567-7156-4287-b4d7-d0a9001d197a"
      },
      "source": [
        "Dictionary (Hashmaps)\n",
        "\n",
        "A dictionary is a data type similar to arrays, but works with keys and values instead of indexes. Each value stored in a dictionary can be accessed using a key, instead of using its index to address it.\n",
        "\n",
        "The value can be any type of object - a string, a number, a list, etc.\n",
        "\n",
        "Dictionary keys must be immutable. So a list cannot be used as key, but a tuple can."
      ]
    },
    {
      "cell_type": "code",
      "execution_count": null,
      "id": "2c01adbb-7791-4ebd-91a8-58843b233b88",
      "metadata": {
        "colab": {
          "base_uri": "https://localhost:8080/"
        },
        "id": "2c01adbb-7791-4ebd-91a8-58843b233b88",
        "outputId": "6d0c33bb-5ff1-45e1-8ad1-b1c9996ce12a"
      },
      "outputs": [
        {
          "output_type": "stream",
          "name": "stdout",
          "text": [
            "{'John': 938477566, 'Jack': 938377264, 'Jill': 947662781}\n"
          ]
        }
      ],
      "source": [
        "phonebook = {}\n",
        "phonebook[\"John\"] = 938477566\n",
        "phonebook[\"Jack\"] = 938377264\n",
        "phonebook[\"Jill\"] = 947662781\n",
        "print(phonebook)"
      ]
    },
    {
      "cell_type": "code",
      "execution_count": null,
      "id": "6f03afbe-832d-4ea1-8a21-288e9622916b",
      "metadata": {
        "colab": {
          "base_uri": "https://localhost:8080/"
        },
        "id": "6f03afbe-832d-4ea1-8a21-288e9622916b",
        "outputId": "d1604d4d-a97a-4c0b-ebe0-1100693a1243"
      },
      "outputs": [
        {
          "output_type": "stream",
          "name": "stdout",
          "text": [
            "Phone number of John is 938477566\n",
            "Phone number of Jack is 938377264\n",
            "Phone number of Jill is 947662781\n"
          ]
        }
      ],
      "source": [
        "# Iterate over dictionaries. Can access both key and value at the same time using .items()\n",
        "for name, number in phonebook.items():\n",
        "    print(\"Phone number of %s is %d\" % (name, number))"
      ]
    },
    {
      "cell_type": "code",
      "execution_count": null,
      "id": "a220ab44-8c78-4b1b-b47b-2e7b24cf86a1",
      "metadata": {
        "colab": {
          "base_uri": "https://localhost:8080/"
        },
        "id": "a220ab44-8c78-4b1b-b47b-2e7b24cf86a1",
        "outputId": "009f00f4-40fb-4f2a-875d-d4939b730ccc"
      },
      "outputs": [
        {
          "output_type": "execute_result",
          "data": {
            "text/plain": [
              "938477566"
            ]
          },
          "metadata": {},
          "execution_count": 63
        }
      ],
      "source": [
        "phonebook.pop(\"John\")"
      ]
    },
    {
      "cell_type": "code",
      "execution_count": null,
      "id": "dfd49dfb-a84d-442f-9323-2dd4de55b688",
      "metadata": {
        "colab": {
          "base_uri": "https://localhost:8080/"
        },
        "id": "dfd49dfb-a84d-442f-9323-2dd4de55b688",
        "outputId": "b099f7ad-b924-4211-fb40-74e760b71ab5"
      },
      "outputs": [
        {
          "output_type": "stream",
          "name": "stdout",
          "text": [
            "{'Jack': 938377264, 'Jill': 947662781}\n"
          ]
        }
      ],
      "source": [
        "print(phonebook)"
      ]
    },
    {
      "cell_type": "markdown",
      "source": [
        "Python Packages are libraries written by other people that we can use, so that we do not need to reinvent the wheels.\n",
        "\n",
        "Common packages used in data science and machine learning are numpy, pandas, scikit-learn, matplotlib. We will be using those packages through the project\n",
        "\n",
        "numpy: array and matrix operations<br>\n",
        "pandas: dataframe operations<br>\n",
        "scikit-learn: machine learning algorithms and methods<br>\n",
        "matplotlib: plotting and visualization"
      ],
      "metadata": {
        "id": "sFbOzfJNBufI"
      },
      "id": "sFbOzfJNBufI"
    },
    {
      "cell_type": "code",
      "execution_count": null,
      "id": "dea25d60-7e4f-4fe2-8198-f7197d825300",
      "metadata": {
        "id": "dea25d60-7e4f-4fe2-8198-f7197d825300"
      },
      "outputs": [],
      "source": [
        "# In order to use the package, you need to import it first\n",
        "import numpy as np\n",
        "import pandas as pd"
      ]
    },
    {
      "cell_type": "code",
      "source": [
        "array1 = np.array([1,2,3,4,5])\n",
        "array2 = np.array([5,6,7,8,9])\n",
        "print(array1)\n",
        "print(array2)"
      ],
      "metadata": {
        "colab": {
          "base_uri": "https://localhost:8080/"
        },
        "id": "bFNzUNSTDQgk",
        "outputId": "84ea5341-1fcc-48a3-fa25-7043503e6ccd"
      },
      "id": "bFNzUNSTDQgk",
      "execution_count": null,
      "outputs": [
        {
          "output_type": "stream",
          "name": "stdout",
          "text": [
            "[1 2 3 4 5]\n",
            "[5 6 7 8 9]\n"
          ]
        }
      ]
    },
    {
      "cell_type": "markdown",
      "source": [
        "Unlike python native list, numpy array are operations are element wise."
      ],
      "metadata": {
        "id": "iII8IHkjDZ-3"
      },
      "id": "iII8IHkjDZ-3"
    },
    {
      "cell_type": "code",
      "source": [
        "print(array1+array2)\n",
        "print(array1*array2)"
      ],
      "metadata": {
        "colab": {
          "base_uri": "https://localhost:8080/"
        },
        "id": "NCnLvnXJDY2P",
        "outputId": "e1d52e2e-b507-40d6-a638-41da922e6ef5"
      },
      "id": "NCnLvnXJDY2P",
      "execution_count": null,
      "outputs": [
        {
          "output_type": "stream",
          "name": "stdout",
          "text": [
            "[ 6  8 10 12 14]\n",
            "[ 5 12 21 32 45]\n"
          ]
        }
      ]
    },
    {
      "cell_type": "code",
      "source": [
        "# Create a random matrix\n",
        "matrix1 = np.random.rand(10,5)"
      ],
      "metadata": {
        "id": "K3O1YUNxDjHX"
      },
      "id": "K3O1YUNxDjHX",
      "execution_count": null,
      "outputs": []
    },
    {
      "cell_type": "code",
      "source": [
        "array3 = np.matmul(matrix1, array1) # Help you refresh matrix multiplication"
      ],
      "metadata": {
        "id": "ajaKNkCzFhk0"
      },
      "id": "ajaKNkCzFhk0",
      "execution_count": null,
      "outputs": []
    },
    {
      "cell_type": "code",
      "source": [
        "array3.shape"
      ],
      "metadata": {
        "colab": {
          "base_uri": "https://localhost:8080/"
        },
        "id": "qzu38yw1Fjmg",
        "outputId": "b8b93e27-d69a-4dc2-8bdb-dbd2051f5122"
      },
      "id": "qzu38yw1Fjmg",
      "execution_count": null,
      "outputs": [
        {
          "output_type": "execute_result",
          "data": {
            "text/plain": [
              "(10,)"
            ]
          },
          "metadata": {},
          "execution_count": 52
        }
      ]
    },
    {
      "cell_type": "code",
      "source": [
        "df = pd.DataFrame(matrix1, columns=[f\"column_{i}\" for i in range(5)])"
      ],
      "metadata": {
        "id": "GeQ0BSKMFzhO"
      },
      "id": "GeQ0BSKMFzhO",
      "execution_count": null,
      "outputs": []
    },
    {
      "cell_type": "code",
      "source": [
        "df # look at the whole dataframe"
      ],
      "metadata": {
        "colab": {
          "base_uri": "https://localhost:8080/",
          "height": 363
        },
        "id": "i7XUKJYcGEOv",
        "outputId": "6b2845bd-e0b3-443c-8294-0cbbf1cf04e6"
      },
      "id": "i7XUKJYcGEOv",
      "execution_count": null,
      "outputs": [
        {
          "output_type": "execute_result",
          "data": {
            "text/plain": [
              "   column_0  column_1  column_2  column_3  column_4\n",
              "0  0.971994  0.789351  0.728234  0.005595  0.186820\n",
              "1  0.237673  0.604880  0.324096  0.091408  0.481241\n",
              "2  0.765176  0.759911  0.087544  0.453530  0.556648\n",
              "3  0.144095  0.714509  0.435265  0.848145  0.131360\n",
              "4  0.973089  0.392950  0.347617  0.390760  0.242740\n",
              "5  0.760450  0.293896  0.592996  0.879684  0.735180\n",
              "6  0.547269  0.718498  0.035491  0.879638  0.738326\n",
              "7  0.924736  0.715271  0.818818  0.836495  0.911996\n",
              "8  0.625476  0.620168  0.179243  0.607017  0.312558\n",
              "9  0.871206  0.096587  0.624462  0.306618  0.775899"
            ],
            "text/html": [
              "\n",
              "  <div id=\"df-2f3c1569-2425-4d78-8e75-610b459c01a8\" class=\"colab-df-container\">\n",
              "    <div>\n",
              "<style scoped>\n",
              "    .dataframe tbody tr th:only-of-type {\n",
              "        vertical-align: middle;\n",
              "    }\n",
              "\n",
              "    .dataframe tbody tr th {\n",
              "        vertical-align: top;\n",
              "    }\n",
              "\n",
              "    .dataframe thead th {\n",
              "        text-align: right;\n",
              "    }\n",
              "</style>\n",
              "<table border=\"1\" class=\"dataframe\">\n",
              "  <thead>\n",
              "    <tr style=\"text-align: right;\">\n",
              "      <th></th>\n",
              "      <th>column_0</th>\n",
              "      <th>column_1</th>\n",
              "      <th>column_2</th>\n",
              "      <th>column_3</th>\n",
              "      <th>column_4</th>\n",
              "    </tr>\n",
              "  </thead>\n",
              "  <tbody>\n",
              "    <tr>\n",
              "      <th>0</th>\n",
              "      <td>0.971994</td>\n",
              "      <td>0.789351</td>\n",
              "      <td>0.728234</td>\n",
              "      <td>0.005595</td>\n",
              "      <td>0.186820</td>\n",
              "    </tr>\n",
              "    <tr>\n",
              "      <th>1</th>\n",
              "      <td>0.237673</td>\n",
              "      <td>0.604880</td>\n",
              "      <td>0.324096</td>\n",
              "      <td>0.091408</td>\n",
              "      <td>0.481241</td>\n",
              "    </tr>\n",
              "    <tr>\n",
              "      <th>2</th>\n",
              "      <td>0.765176</td>\n",
              "      <td>0.759911</td>\n",
              "      <td>0.087544</td>\n",
              "      <td>0.453530</td>\n",
              "      <td>0.556648</td>\n",
              "    </tr>\n",
              "    <tr>\n",
              "      <th>3</th>\n",
              "      <td>0.144095</td>\n",
              "      <td>0.714509</td>\n",
              "      <td>0.435265</td>\n",
              "      <td>0.848145</td>\n",
              "      <td>0.131360</td>\n",
              "    </tr>\n",
              "    <tr>\n",
              "      <th>4</th>\n",
              "      <td>0.973089</td>\n",
              "      <td>0.392950</td>\n",
              "      <td>0.347617</td>\n",
              "      <td>0.390760</td>\n",
              "      <td>0.242740</td>\n",
              "    </tr>\n",
              "    <tr>\n",
              "      <th>5</th>\n",
              "      <td>0.760450</td>\n",
              "      <td>0.293896</td>\n",
              "      <td>0.592996</td>\n",
              "      <td>0.879684</td>\n",
              "      <td>0.735180</td>\n",
              "    </tr>\n",
              "    <tr>\n",
              "      <th>6</th>\n",
              "      <td>0.547269</td>\n",
              "      <td>0.718498</td>\n",
              "      <td>0.035491</td>\n",
              "      <td>0.879638</td>\n",
              "      <td>0.738326</td>\n",
              "    </tr>\n",
              "    <tr>\n",
              "      <th>7</th>\n",
              "      <td>0.924736</td>\n",
              "      <td>0.715271</td>\n",
              "      <td>0.818818</td>\n",
              "      <td>0.836495</td>\n",
              "      <td>0.911996</td>\n",
              "    </tr>\n",
              "    <tr>\n",
              "      <th>8</th>\n",
              "      <td>0.625476</td>\n",
              "      <td>0.620168</td>\n",
              "      <td>0.179243</td>\n",
              "      <td>0.607017</td>\n",
              "      <td>0.312558</td>\n",
              "    </tr>\n",
              "    <tr>\n",
              "      <th>9</th>\n",
              "      <td>0.871206</td>\n",
              "      <td>0.096587</td>\n",
              "      <td>0.624462</td>\n",
              "      <td>0.306618</td>\n",
              "      <td>0.775899</td>\n",
              "    </tr>\n",
              "  </tbody>\n",
              "</table>\n",
              "</div>\n",
              "    <div class=\"colab-df-buttons\">\n",
              "\n",
              "  <div class=\"colab-df-container\">\n",
              "    <button class=\"colab-df-convert\" onclick=\"convertToInteractive('df-2f3c1569-2425-4d78-8e75-610b459c01a8')\"\n",
              "            title=\"Convert this dataframe to an interactive table.\"\n",
              "            style=\"display:none;\">\n",
              "\n",
              "  <svg xmlns=\"http://www.w3.org/2000/svg\" height=\"24px\" viewBox=\"0 -960 960 960\">\n",
              "    <path d=\"M120-120v-720h720v720H120Zm60-500h600v-160H180v160Zm220 220h160v-160H400v160Zm0 220h160v-160H400v160ZM180-400h160v-160H180v160Zm440 0h160v-160H620v160ZM180-180h160v-160H180v160Zm440 0h160v-160H620v160Z\"/>\n",
              "  </svg>\n",
              "    </button>\n",
              "\n",
              "  <style>\n",
              "    .colab-df-container {\n",
              "      display:flex;\n",
              "      gap: 12px;\n",
              "    }\n",
              "\n",
              "    .colab-df-convert {\n",
              "      background-color: #E8F0FE;\n",
              "      border: none;\n",
              "      border-radius: 50%;\n",
              "      cursor: pointer;\n",
              "      display: none;\n",
              "      fill: #1967D2;\n",
              "      height: 32px;\n",
              "      padding: 0 0 0 0;\n",
              "      width: 32px;\n",
              "    }\n",
              "\n",
              "    .colab-df-convert:hover {\n",
              "      background-color: #E2EBFA;\n",
              "      box-shadow: 0px 1px 2px rgba(60, 64, 67, 0.3), 0px 1px 3px 1px rgba(60, 64, 67, 0.15);\n",
              "      fill: #174EA6;\n",
              "    }\n",
              "\n",
              "    .colab-df-buttons div {\n",
              "      margin-bottom: 4px;\n",
              "    }\n",
              "\n",
              "    [theme=dark] .colab-df-convert {\n",
              "      background-color: #3B4455;\n",
              "      fill: #D2E3FC;\n",
              "    }\n",
              "\n",
              "    [theme=dark] .colab-df-convert:hover {\n",
              "      background-color: #434B5C;\n",
              "      box-shadow: 0px 1px 3px 1px rgba(0, 0, 0, 0.15);\n",
              "      filter: drop-shadow(0px 1px 2px rgba(0, 0, 0, 0.3));\n",
              "      fill: #FFFFFF;\n",
              "    }\n",
              "  </style>\n",
              "\n",
              "    <script>\n",
              "      const buttonEl =\n",
              "        document.querySelector('#df-2f3c1569-2425-4d78-8e75-610b459c01a8 button.colab-df-convert');\n",
              "      buttonEl.style.display =\n",
              "        google.colab.kernel.accessAllowed ? 'block' : 'none';\n",
              "\n",
              "      async function convertToInteractive(key) {\n",
              "        const element = document.querySelector('#df-2f3c1569-2425-4d78-8e75-610b459c01a8');\n",
              "        const dataTable =\n",
              "          await google.colab.kernel.invokeFunction('convertToInteractive',\n",
              "                                                    [key], {});\n",
              "        if (!dataTable) return;\n",
              "\n",
              "        const docLinkHtml = 'Like what you see? Visit the ' +\n",
              "          '<a target=\"_blank\" href=https://colab.research.google.com/notebooks/data_table.ipynb>data table notebook</a>'\n",
              "          + ' to learn more about interactive tables.';\n",
              "        element.innerHTML = '';\n",
              "        dataTable['output_type'] = 'display_data';\n",
              "        await google.colab.output.renderOutput(dataTable, element);\n",
              "        const docLink = document.createElement('div');\n",
              "        docLink.innerHTML = docLinkHtml;\n",
              "        element.appendChild(docLink);\n",
              "      }\n",
              "    </script>\n",
              "  </div>\n",
              "\n",
              "\n",
              "<div id=\"df-6071b724-069f-4909-866c-e9f5e9accf12\">\n",
              "  <button class=\"colab-df-quickchart\" onclick=\"quickchart('df-6071b724-069f-4909-866c-e9f5e9accf12')\"\n",
              "            title=\"Suggest charts\"\n",
              "            style=\"display:none;\">\n",
              "\n",
              "<svg xmlns=\"http://www.w3.org/2000/svg\" height=\"24px\"viewBox=\"0 0 24 24\"\n",
              "     width=\"24px\">\n",
              "    <g>\n",
              "        <path d=\"M19 3H5c-1.1 0-2 .9-2 2v14c0 1.1.9 2 2 2h14c1.1 0 2-.9 2-2V5c0-1.1-.9-2-2-2zM9 17H7v-7h2v7zm4 0h-2V7h2v10zm4 0h-2v-4h2v4z\"/>\n",
              "    </g>\n",
              "</svg>\n",
              "  </button>\n",
              "\n",
              "<style>\n",
              "  .colab-df-quickchart {\n",
              "      --bg-color: #E8F0FE;\n",
              "      --fill-color: #1967D2;\n",
              "      --hover-bg-color: #E2EBFA;\n",
              "      --hover-fill-color: #174EA6;\n",
              "      --disabled-fill-color: #AAA;\n",
              "      --disabled-bg-color: #DDD;\n",
              "  }\n",
              "\n",
              "  [theme=dark] .colab-df-quickchart {\n",
              "      --bg-color: #3B4455;\n",
              "      --fill-color: #D2E3FC;\n",
              "      --hover-bg-color: #434B5C;\n",
              "      --hover-fill-color: #FFFFFF;\n",
              "      --disabled-bg-color: #3B4455;\n",
              "      --disabled-fill-color: #666;\n",
              "  }\n",
              "\n",
              "  .colab-df-quickchart {\n",
              "    background-color: var(--bg-color);\n",
              "    border: none;\n",
              "    border-radius: 50%;\n",
              "    cursor: pointer;\n",
              "    display: none;\n",
              "    fill: var(--fill-color);\n",
              "    height: 32px;\n",
              "    padding: 0;\n",
              "    width: 32px;\n",
              "  }\n",
              "\n",
              "  .colab-df-quickchart:hover {\n",
              "    background-color: var(--hover-bg-color);\n",
              "    box-shadow: 0 1px 2px rgba(60, 64, 67, 0.3), 0 1px 3px 1px rgba(60, 64, 67, 0.15);\n",
              "    fill: var(--button-hover-fill-color);\n",
              "  }\n",
              "\n",
              "  .colab-df-quickchart-complete:disabled,\n",
              "  .colab-df-quickchart-complete:disabled:hover {\n",
              "    background-color: var(--disabled-bg-color);\n",
              "    fill: var(--disabled-fill-color);\n",
              "    box-shadow: none;\n",
              "  }\n",
              "\n",
              "  .colab-df-spinner {\n",
              "    border: 2px solid var(--fill-color);\n",
              "    border-color: transparent;\n",
              "    border-bottom-color: var(--fill-color);\n",
              "    animation:\n",
              "      spin 1s steps(1) infinite;\n",
              "  }\n",
              "\n",
              "  @keyframes spin {\n",
              "    0% {\n",
              "      border-color: transparent;\n",
              "      border-bottom-color: var(--fill-color);\n",
              "      border-left-color: var(--fill-color);\n",
              "    }\n",
              "    20% {\n",
              "      border-color: transparent;\n",
              "      border-left-color: var(--fill-color);\n",
              "      border-top-color: var(--fill-color);\n",
              "    }\n",
              "    30% {\n",
              "      border-color: transparent;\n",
              "      border-left-color: var(--fill-color);\n",
              "      border-top-color: var(--fill-color);\n",
              "      border-right-color: var(--fill-color);\n",
              "    }\n",
              "    40% {\n",
              "      border-color: transparent;\n",
              "      border-right-color: var(--fill-color);\n",
              "      border-top-color: var(--fill-color);\n",
              "    }\n",
              "    60% {\n",
              "      border-color: transparent;\n",
              "      border-right-color: var(--fill-color);\n",
              "    }\n",
              "    80% {\n",
              "      border-color: transparent;\n",
              "      border-right-color: var(--fill-color);\n",
              "      border-bottom-color: var(--fill-color);\n",
              "    }\n",
              "    90% {\n",
              "      border-color: transparent;\n",
              "      border-bottom-color: var(--fill-color);\n",
              "    }\n",
              "  }\n",
              "</style>\n",
              "\n",
              "  <script>\n",
              "    async function quickchart(key) {\n",
              "      const quickchartButtonEl =\n",
              "        document.querySelector('#' + key + ' button');\n",
              "      quickchartButtonEl.disabled = true;  // To prevent multiple clicks.\n",
              "      quickchartButtonEl.classList.add('colab-df-spinner');\n",
              "      try {\n",
              "        const charts = await google.colab.kernel.invokeFunction(\n",
              "            'suggestCharts', [key], {});\n",
              "      } catch (error) {\n",
              "        console.error('Error during call to suggestCharts:', error);\n",
              "      }\n",
              "      quickchartButtonEl.classList.remove('colab-df-spinner');\n",
              "      quickchartButtonEl.classList.add('colab-df-quickchart-complete');\n",
              "    }\n",
              "    (() => {\n",
              "      let quickchartButtonEl =\n",
              "        document.querySelector('#df-6071b724-069f-4909-866c-e9f5e9accf12 button');\n",
              "      quickchartButtonEl.style.display =\n",
              "        google.colab.kernel.accessAllowed ? 'block' : 'none';\n",
              "    })();\n",
              "  </script>\n",
              "</div>\n",
              "\n",
              "  <div id=\"id_26650716-d5ac-47ee-9355-fd6d20addaa4\">\n",
              "    <style>\n",
              "      .colab-df-generate {\n",
              "        background-color: #E8F0FE;\n",
              "        border: none;\n",
              "        border-radius: 50%;\n",
              "        cursor: pointer;\n",
              "        display: none;\n",
              "        fill: #1967D2;\n",
              "        height: 32px;\n",
              "        padding: 0 0 0 0;\n",
              "        width: 32px;\n",
              "      }\n",
              "\n",
              "      .colab-df-generate:hover {\n",
              "        background-color: #E2EBFA;\n",
              "        box-shadow: 0px 1px 2px rgba(60, 64, 67, 0.3), 0px 1px 3px 1px rgba(60, 64, 67, 0.15);\n",
              "        fill: #174EA6;\n",
              "      }\n",
              "\n",
              "      [theme=dark] .colab-df-generate {\n",
              "        background-color: #3B4455;\n",
              "        fill: #D2E3FC;\n",
              "      }\n",
              "\n",
              "      [theme=dark] .colab-df-generate:hover {\n",
              "        background-color: #434B5C;\n",
              "        box-shadow: 0px 1px 3px 1px rgba(0, 0, 0, 0.15);\n",
              "        filter: drop-shadow(0px 1px 2px rgba(0, 0, 0, 0.3));\n",
              "        fill: #FFFFFF;\n",
              "      }\n",
              "    </style>\n",
              "    <button class=\"colab-df-generate\" onclick=\"generateWithVariable('df')\"\n",
              "            title=\"Generate code using this dataframe.\"\n",
              "            style=\"display:none;\">\n",
              "\n",
              "  <svg xmlns=\"http://www.w3.org/2000/svg\" height=\"24px\"viewBox=\"0 0 24 24\"\n",
              "       width=\"24px\">\n",
              "    <path d=\"M7,19H8.4L18.45,9,17,7.55,7,17.6ZM5,21V16.75L18.45,3.32a2,2,0,0,1,2.83,0l1.4,1.43a1.91,1.91,0,0,1,.58,1.4,1.91,1.91,0,0,1-.58,1.4L9.25,21ZM18.45,9,17,7.55Zm-12,3A5.31,5.31,0,0,0,4.9,8.1,5.31,5.31,0,0,0,1,6.5,5.31,5.31,0,0,0,4.9,4.9,5.31,5.31,0,0,0,6.5,1,5.31,5.31,0,0,0,8.1,4.9,5.31,5.31,0,0,0,12,6.5,5.46,5.46,0,0,0,6.5,12Z\"/>\n",
              "  </svg>\n",
              "    </button>\n",
              "    <script>\n",
              "      (() => {\n",
              "      const buttonEl =\n",
              "        document.querySelector('#id_26650716-d5ac-47ee-9355-fd6d20addaa4 button.colab-df-generate');\n",
              "      buttonEl.style.display =\n",
              "        google.colab.kernel.accessAllowed ? 'block' : 'none';\n",
              "\n",
              "      buttonEl.onclick = () => {\n",
              "        google.colab.notebook.generateWithVariable('df');\n",
              "      }\n",
              "      })();\n",
              "    </script>\n",
              "  </div>\n",
              "\n",
              "    </div>\n",
              "  </div>\n"
            ],
            "application/vnd.google.colaboratory.intrinsic+json": {
              "type": "dataframe",
              "variable_name": "df",
              "summary": "{\n  \"name\": \"df\",\n  \"rows\": 10,\n  \"fields\": [\n    {\n      \"column\": \"column_0\",\n      \"properties\": {\n        \"dtype\": \"number\",\n        \"std\": 0.29528462755609336,\n        \"min\": 0.14409537236443715,\n        \"max\": 0.9730889713746519,\n        \"num_unique_values\": 10,\n        \"samples\": [\n          0.6254761978712406,\n          0.23767283588885801,\n          0.7604499941958167\n        ],\n        \"semantic_type\": \"\",\n        \"description\": \"\"\n      }\n    },\n    {\n      \"column\": \"column_1\",\n      \"properties\": {\n        \"dtype\": \"number\",\n        \"std\": 0.23181625412205759,\n        \"min\": 0.09658718116128084,\n        \"max\": 0.7893511298747166,\n        \"num_unique_values\": 10,\n        \"samples\": [\n          0.6201676480146321,\n          0.6048803365696105,\n          0.2938959445063549\n        ],\n        \"semantic_type\": \"\",\n        \"description\": \"\"\n      }\n    },\n    {\n      \"column\": \"column_2\",\n      \"properties\": {\n        \"dtype\": \"number\",\n        \"std\": 0.27013072888920464,\n        \"min\": 0.035491139024905194,\n        \"max\": 0.8188179657322349,\n        \"num_unique_values\": 10,\n        \"samples\": [\n          0.1792429608745808,\n          0.3240959171294383,\n          0.5929960685771213\n        ],\n        \"semantic_type\": \"\",\n        \"description\": \"\"\n      }\n    },\n    {\n      \"column\": \"column_3\",\n      \"properties\": {\n        \"dtype\": \"number\",\n        \"std\": 0.33134595471169376,\n        \"min\": 0.005594776882051344,\n        \"max\": 0.8796843169566498,\n        \"num_unique_values\": 10,\n        \"samples\": [\n          0.6070170632682381,\n          0.09140816627711046,\n          0.8796843169566498\n        ],\n        \"semantic_type\": \"\",\n        \"description\": \"\"\n      }\n    },\n    {\n      \"column\": \"column_4\",\n      \"properties\": {\n        \"dtype\": \"number\",\n        \"std\": 0.2781477140825736,\n        \"min\": 0.1313603100812294,\n        \"max\": 0.9119956254329153,\n        \"num_unique_values\": 10,\n        \"samples\": [\n          0.31255780349168605,\n          0.4812405452984121,\n          0.7351804476076225\n        ],\n        \"semantic_type\": \"\",\n        \"description\": \"\"\n      }\n    }\n  ]\n}"
            }
          },
          "metadata": {},
          "execution_count": 54
        }
      ]
    },
    {
      "cell_type": "code",
      "source": [
        "df[\"column_0\"] # Look at one column"
      ],
      "metadata": {
        "colab": {
          "base_uri": "https://localhost:8080/",
          "height": 398
        },
        "id": "dOfnaz2jGIls",
        "outputId": "4d57e97f-763f-4e0d-f6e1-c45c16d3c6e0"
      },
      "id": "dOfnaz2jGIls",
      "execution_count": null,
      "outputs": [
        {
          "output_type": "execute_result",
          "data": {
            "text/plain": [
              "0    0.971994\n",
              "1    0.237673\n",
              "2    0.765176\n",
              "3    0.144095\n",
              "4    0.973089\n",
              "5    0.760450\n",
              "6    0.547269\n",
              "7    0.924736\n",
              "8    0.625476\n",
              "9    0.871206\n",
              "Name: column_0, dtype: float64"
            ],
            "text/html": [
              "<div>\n",
              "<style scoped>\n",
              "    .dataframe tbody tr th:only-of-type {\n",
              "        vertical-align: middle;\n",
              "    }\n",
              "\n",
              "    .dataframe tbody tr th {\n",
              "        vertical-align: top;\n",
              "    }\n",
              "\n",
              "    .dataframe thead th {\n",
              "        text-align: right;\n",
              "    }\n",
              "</style>\n",
              "<table border=\"1\" class=\"dataframe\">\n",
              "  <thead>\n",
              "    <tr style=\"text-align: right;\">\n",
              "      <th></th>\n",
              "      <th>column_0</th>\n",
              "    </tr>\n",
              "  </thead>\n",
              "  <tbody>\n",
              "    <tr>\n",
              "      <th>0</th>\n",
              "      <td>0.971994</td>\n",
              "    </tr>\n",
              "    <tr>\n",
              "      <th>1</th>\n",
              "      <td>0.237673</td>\n",
              "    </tr>\n",
              "    <tr>\n",
              "      <th>2</th>\n",
              "      <td>0.765176</td>\n",
              "    </tr>\n",
              "    <tr>\n",
              "      <th>3</th>\n",
              "      <td>0.144095</td>\n",
              "    </tr>\n",
              "    <tr>\n",
              "      <th>4</th>\n",
              "      <td>0.973089</td>\n",
              "    </tr>\n",
              "    <tr>\n",
              "      <th>5</th>\n",
              "      <td>0.760450</td>\n",
              "    </tr>\n",
              "    <tr>\n",
              "      <th>6</th>\n",
              "      <td>0.547269</td>\n",
              "    </tr>\n",
              "    <tr>\n",
              "      <th>7</th>\n",
              "      <td>0.924736</td>\n",
              "    </tr>\n",
              "    <tr>\n",
              "      <th>8</th>\n",
              "      <td>0.625476</td>\n",
              "    </tr>\n",
              "    <tr>\n",
              "      <th>9</th>\n",
              "      <td>0.871206</td>\n",
              "    </tr>\n",
              "  </tbody>\n",
              "</table>\n",
              "</div><br><label><b>dtype:</b> float64</label>"
            ]
          },
          "metadata": {},
          "execution_count": 55
        }
      ]
    },
    {
      "cell_type": "code",
      "source": [
        "df[\"column_6\"] = df[\"column_0\"] + df[\"column_1\"] # Create a new column based on two existing columns"
      ],
      "metadata": {
        "id": "cTeOx9qXGNFQ"
      },
      "id": "cTeOx9qXGNFQ",
      "execution_count": null,
      "outputs": []
    },
    {
      "cell_type": "code",
      "source": [
        "df"
      ],
      "metadata": {
        "colab": {
          "base_uri": "https://localhost:8080/",
          "height": 363
        },
        "id": "SijgPR-lGWIG",
        "outputId": "ab0583bf-c8a5-486a-e99c-b6c56cf26b44"
      },
      "id": "SijgPR-lGWIG",
      "execution_count": null,
      "outputs": [
        {
          "output_type": "execute_result",
          "data": {
            "text/plain": [
              "   column_0  column_1  column_2  column_3  column_4  column_6\n",
              "0  0.971994  0.789351  0.728234  0.005595  0.186820  1.761345\n",
              "1  0.237673  0.604880  0.324096  0.091408  0.481241  0.842553\n",
              "2  0.765176  0.759911  0.087544  0.453530  0.556648  1.525087\n",
              "3  0.144095  0.714509  0.435265  0.848145  0.131360  0.858605\n",
              "4  0.973089  0.392950  0.347617  0.390760  0.242740  1.366039\n",
              "5  0.760450  0.293896  0.592996  0.879684  0.735180  1.054346\n",
              "6  0.547269  0.718498  0.035491  0.879638  0.738326  1.265767\n",
              "7  0.924736  0.715271  0.818818  0.836495  0.911996  1.640007\n",
              "8  0.625476  0.620168  0.179243  0.607017  0.312558  1.245644\n",
              "9  0.871206  0.096587  0.624462  0.306618  0.775899  0.967794"
            ],
            "text/html": [
              "\n",
              "  <div id=\"df-3e9db270-ef34-45a0-b0a8-d741258acbde\" class=\"colab-df-container\">\n",
              "    <div>\n",
              "<style scoped>\n",
              "    .dataframe tbody tr th:only-of-type {\n",
              "        vertical-align: middle;\n",
              "    }\n",
              "\n",
              "    .dataframe tbody tr th {\n",
              "        vertical-align: top;\n",
              "    }\n",
              "\n",
              "    .dataframe thead th {\n",
              "        text-align: right;\n",
              "    }\n",
              "</style>\n",
              "<table border=\"1\" class=\"dataframe\">\n",
              "  <thead>\n",
              "    <tr style=\"text-align: right;\">\n",
              "      <th></th>\n",
              "      <th>column_0</th>\n",
              "      <th>column_1</th>\n",
              "      <th>column_2</th>\n",
              "      <th>column_3</th>\n",
              "      <th>column_4</th>\n",
              "      <th>column_6</th>\n",
              "    </tr>\n",
              "  </thead>\n",
              "  <tbody>\n",
              "    <tr>\n",
              "      <th>0</th>\n",
              "      <td>0.971994</td>\n",
              "      <td>0.789351</td>\n",
              "      <td>0.728234</td>\n",
              "      <td>0.005595</td>\n",
              "      <td>0.186820</td>\n",
              "      <td>1.761345</td>\n",
              "    </tr>\n",
              "    <tr>\n",
              "      <th>1</th>\n",
              "      <td>0.237673</td>\n",
              "      <td>0.604880</td>\n",
              "      <td>0.324096</td>\n",
              "      <td>0.091408</td>\n",
              "      <td>0.481241</td>\n",
              "      <td>0.842553</td>\n",
              "    </tr>\n",
              "    <tr>\n",
              "      <th>2</th>\n",
              "      <td>0.765176</td>\n",
              "      <td>0.759911</td>\n",
              "      <td>0.087544</td>\n",
              "      <td>0.453530</td>\n",
              "      <td>0.556648</td>\n",
              "      <td>1.525087</td>\n",
              "    </tr>\n",
              "    <tr>\n",
              "      <th>3</th>\n",
              "      <td>0.144095</td>\n",
              "      <td>0.714509</td>\n",
              "      <td>0.435265</td>\n",
              "      <td>0.848145</td>\n",
              "      <td>0.131360</td>\n",
              "      <td>0.858605</td>\n",
              "    </tr>\n",
              "    <tr>\n",
              "      <th>4</th>\n",
              "      <td>0.973089</td>\n",
              "      <td>0.392950</td>\n",
              "      <td>0.347617</td>\n",
              "      <td>0.390760</td>\n",
              "      <td>0.242740</td>\n",
              "      <td>1.366039</td>\n",
              "    </tr>\n",
              "    <tr>\n",
              "      <th>5</th>\n",
              "      <td>0.760450</td>\n",
              "      <td>0.293896</td>\n",
              "      <td>0.592996</td>\n",
              "      <td>0.879684</td>\n",
              "      <td>0.735180</td>\n",
              "      <td>1.054346</td>\n",
              "    </tr>\n",
              "    <tr>\n",
              "      <th>6</th>\n",
              "      <td>0.547269</td>\n",
              "      <td>0.718498</td>\n",
              "      <td>0.035491</td>\n",
              "      <td>0.879638</td>\n",
              "      <td>0.738326</td>\n",
              "      <td>1.265767</td>\n",
              "    </tr>\n",
              "    <tr>\n",
              "      <th>7</th>\n",
              "      <td>0.924736</td>\n",
              "      <td>0.715271</td>\n",
              "      <td>0.818818</td>\n",
              "      <td>0.836495</td>\n",
              "      <td>0.911996</td>\n",
              "      <td>1.640007</td>\n",
              "    </tr>\n",
              "    <tr>\n",
              "      <th>8</th>\n",
              "      <td>0.625476</td>\n",
              "      <td>0.620168</td>\n",
              "      <td>0.179243</td>\n",
              "      <td>0.607017</td>\n",
              "      <td>0.312558</td>\n",
              "      <td>1.245644</td>\n",
              "    </tr>\n",
              "    <tr>\n",
              "      <th>9</th>\n",
              "      <td>0.871206</td>\n",
              "      <td>0.096587</td>\n",
              "      <td>0.624462</td>\n",
              "      <td>0.306618</td>\n",
              "      <td>0.775899</td>\n",
              "      <td>0.967794</td>\n",
              "    </tr>\n",
              "  </tbody>\n",
              "</table>\n",
              "</div>\n",
              "    <div class=\"colab-df-buttons\">\n",
              "\n",
              "  <div class=\"colab-df-container\">\n",
              "    <button class=\"colab-df-convert\" onclick=\"convertToInteractive('df-3e9db270-ef34-45a0-b0a8-d741258acbde')\"\n",
              "            title=\"Convert this dataframe to an interactive table.\"\n",
              "            style=\"display:none;\">\n",
              "\n",
              "  <svg xmlns=\"http://www.w3.org/2000/svg\" height=\"24px\" viewBox=\"0 -960 960 960\">\n",
              "    <path d=\"M120-120v-720h720v720H120Zm60-500h600v-160H180v160Zm220 220h160v-160H400v160Zm0 220h160v-160H400v160ZM180-400h160v-160H180v160Zm440 0h160v-160H620v160ZM180-180h160v-160H180v160Zm440 0h160v-160H620v160Z\"/>\n",
              "  </svg>\n",
              "    </button>\n",
              "\n",
              "  <style>\n",
              "    .colab-df-container {\n",
              "      display:flex;\n",
              "      gap: 12px;\n",
              "    }\n",
              "\n",
              "    .colab-df-convert {\n",
              "      background-color: #E8F0FE;\n",
              "      border: none;\n",
              "      border-radius: 50%;\n",
              "      cursor: pointer;\n",
              "      display: none;\n",
              "      fill: #1967D2;\n",
              "      height: 32px;\n",
              "      padding: 0 0 0 0;\n",
              "      width: 32px;\n",
              "    }\n",
              "\n",
              "    .colab-df-convert:hover {\n",
              "      background-color: #E2EBFA;\n",
              "      box-shadow: 0px 1px 2px rgba(60, 64, 67, 0.3), 0px 1px 3px 1px rgba(60, 64, 67, 0.15);\n",
              "      fill: #174EA6;\n",
              "    }\n",
              "\n",
              "    .colab-df-buttons div {\n",
              "      margin-bottom: 4px;\n",
              "    }\n",
              "\n",
              "    [theme=dark] .colab-df-convert {\n",
              "      background-color: #3B4455;\n",
              "      fill: #D2E3FC;\n",
              "    }\n",
              "\n",
              "    [theme=dark] .colab-df-convert:hover {\n",
              "      background-color: #434B5C;\n",
              "      box-shadow: 0px 1px 3px 1px rgba(0, 0, 0, 0.15);\n",
              "      filter: drop-shadow(0px 1px 2px rgba(0, 0, 0, 0.3));\n",
              "      fill: #FFFFFF;\n",
              "    }\n",
              "  </style>\n",
              "\n",
              "    <script>\n",
              "      const buttonEl =\n",
              "        document.querySelector('#df-3e9db270-ef34-45a0-b0a8-d741258acbde button.colab-df-convert');\n",
              "      buttonEl.style.display =\n",
              "        google.colab.kernel.accessAllowed ? 'block' : 'none';\n",
              "\n",
              "      async function convertToInteractive(key) {\n",
              "        const element = document.querySelector('#df-3e9db270-ef34-45a0-b0a8-d741258acbde');\n",
              "        const dataTable =\n",
              "          await google.colab.kernel.invokeFunction('convertToInteractive',\n",
              "                                                    [key], {});\n",
              "        if (!dataTable) return;\n",
              "\n",
              "        const docLinkHtml = 'Like what you see? Visit the ' +\n",
              "          '<a target=\"_blank\" href=https://colab.research.google.com/notebooks/data_table.ipynb>data table notebook</a>'\n",
              "          + ' to learn more about interactive tables.';\n",
              "        element.innerHTML = '';\n",
              "        dataTable['output_type'] = 'display_data';\n",
              "        await google.colab.output.renderOutput(dataTable, element);\n",
              "        const docLink = document.createElement('div');\n",
              "        docLink.innerHTML = docLinkHtml;\n",
              "        element.appendChild(docLink);\n",
              "      }\n",
              "    </script>\n",
              "  </div>\n",
              "\n",
              "\n",
              "<div id=\"df-7608db68-57c0-4c4a-bfed-2bd0cbffeeba\">\n",
              "  <button class=\"colab-df-quickchart\" onclick=\"quickchart('df-7608db68-57c0-4c4a-bfed-2bd0cbffeeba')\"\n",
              "            title=\"Suggest charts\"\n",
              "            style=\"display:none;\">\n",
              "\n",
              "<svg xmlns=\"http://www.w3.org/2000/svg\" height=\"24px\"viewBox=\"0 0 24 24\"\n",
              "     width=\"24px\">\n",
              "    <g>\n",
              "        <path d=\"M19 3H5c-1.1 0-2 .9-2 2v14c0 1.1.9 2 2 2h14c1.1 0 2-.9 2-2V5c0-1.1-.9-2-2-2zM9 17H7v-7h2v7zm4 0h-2V7h2v10zm4 0h-2v-4h2v4z\"/>\n",
              "    </g>\n",
              "</svg>\n",
              "  </button>\n",
              "\n",
              "<style>\n",
              "  .colab-df-quickchart {\n",
              "      --bg-color: #E8F0FE;\n",
              "      --fill-color: #1967D2;\n",
              "      --hover-bg-color: #E2EBFA;\n",
              "      --hover-fill-color: #174EA6;\n",
              "      --disabled-fill-color: #AAA;\n",
              "      --disabled-bg-color: #DDD;\n",
              "  }\n",
              "\n",
              "  [theme=dark] .colab-df-quickchart {\n",
              "      --bg-color: #3B4455;\n",
              "      --fill-color: #D2E3FC;\n",
              "      --hover-bg-color: #434B5C;\n",
              "      --hover-fill-color: #FFFFFF;\n",
              "      --disabled-bg-color: #3B4455;\n",
              "      --disabled-fill-color: #666;\n",
              "  }\n",
              "\n",
              "  .colab-df-quickchart {\n",
              "    background-color: var(--bg-color);\n",
              "    border: none;\n",
              "    border-radius: 50%;\n",
              "    cursor: pointer;\n",
              "    display: none;\n",
              "    fill: var(--fill-color);\n",
              "    height: 32px;\n",
              "    padding: 0;\n",
              "    width: 32px;\n",
              "  }\n",
              "\n",
              "  .colab-df-quickchart:hover {\n",
              "    background-color: var(--hover-bg-color);\n",
              "    box-shadow: 0 1px 2px rgba(60, 64, 67, 0.3), 0 1px 3px 1px rgba(60, 64, 67, 0.15);\n",
              "    fill: var(--button-hover-fill-color);\n",
              "  }\n",
              "\n",
              "  .colab-df-quickchart-complete:disabled,\n",
              "  .colab-df-quickchart-complete:disabled:hover {\n",
              "    background-color: var(--disabled-bg-color);\n",
              "    fill: var(--disabled-fill-color);\n",
              "    box-shadow: none;\n",
              "  }\n",
              "\n",
              "  .colab-df-spinner {\n",
              "    border: 2px solid var(--fill-color);\n",
              "    border-color: transparent;\n",
              "    border-bottom-color: var(--fill-color);\n",
              "    animation:\n",
              "      spin 1s steps(1) infinite;\n",
              "  }\n",
              "\n",
              "  @keyframes spin {\n",
              "    0% {\n",
              "      border-color: transparent;\n",
              "      border-bottom-color: var(--fill-color);\n",
              "      border-left-color: var(--fill-color);\n",
              "    }\n",
              "    20% {\n",
              "      border-color: transparent;\n",
              "      border-left-color: var(--fill-color);\n",
              "      border-top-color: var(--fill-color);\n",
              "    }\n",
              "    30% {\n",
              "      border-color: transparent;\n",
              "      border-left-color: var(--fill-color);\n",
              "      border-top-color: var(--fill-color);\n",
              "      border-right-color: var(--fill-color);\n",
              "    }\n",
              "    40% {\n",
              "      border-color: transparent;\n",
              "      border-right-color: var(--fill-color);\n",
              "      border-top-color: var(--fill-color);\n",
              "    }\n",
              "    60% {\n",
              "      border-color: transparent;\n",
              "      border-right-color: var(--fill-color);\n",
              "    }\n",
              "    80% {\n",
              "      border-color: transparent;\n",
              "      border-right-color: var(--fill-color);\n",
              "      border-bottom-color: var(--fill-color);\n",
              "    }\n",
              "    90% {\n",
              "      border-color: transparent;\n",
              "      border-bottom-color: var(--fill-color);\n",
              "    }\n",
              "  }\n",
              "</style>\n",
              "\n",
              "  <script>\n",
              "    async function quickchart(key) {\n",
              "      const quickchartButtonEl =\n",
              "        document.querySelector('#' + key + ' button');\n",
              "      quickchartButtonEl.disabled = true;  // To prevent multiple clicks.\n",
              "      quickchartButtonEl.classList.add('colab-df-spinner');\n",
              "      try {\n",
              "        const charts = await google.colab.kernel.invokeFunction(\n",
              "            'suggestCharts', [key], {});\n",
              "      } catch (error) {\n",
              "        console.error('Error during call to suggestCharts:', error);\n",
              "      }\n",
              "      quickchartButtonEl.classList.remove('colab-df-spinner');\n",
              "      quickchartButtonEl.classList.add('colab-df-quickchart-complete');\n",
              "    }\n",
              "    (() => {\n",
              "      let quickchartButtonEl =\n",
              "        document.querySelector('#df-7608db68-57c0-4c4a-bfed-2bd0cbffeeba button');\n",
              "      quickchartButtonEl.style.display =\n",
              "        google.colab.kernel.accessAllowed ? 'block' : 'none';\n",
              "    })();\n",
              "  </script>\n",
              "</div>\n",
              "\n",
              "  <div id=\"id_8fe9fd49-d404-4bfa-8b10-a6bc53249681\">\n",
              "    <style>\n",
              "      .colab-df-generate {\n",
              "        background-color: #E8F0FE;\n",
              "        border: none;\n",
              "        border-radius: 50%;\n",
              "        cursor: pointer;\n",
              "        display: none;\n",
              "        fill: #1967D2;\n",
              "        height: 32px;\n",
              "        padding: 0 0 0 0;\n",
              "        width: 32px;\n",
              "      }\n",
              "\n",
              "      .colab-df-generate:hover {\n",
              "        background-color: #E2EBFA;\n",
              "        box-shadow: 0px 1px 2px rgba(60, 64, 67, 0.3), 0px 1px 3px 1px rgba(60, 64, 67, 0.15);\n",
              "        fill: #174EA6;\n",
              "      }\n",
              "\n",
              "      [theme=dark] .colab-df-generate {\n",
              "        background-color: #3B4455;\n",
              "        fill: #D2E3FC;\n",
              "      }\n",
              "\n",
              "      [theme=dark] .colab-df-generate:hover {\n",
              "        background-color: #434B5C;\n",
              "        box-shadow: 0px 1px 3px 1px rgba(0, 0, 0, 0.15);\n",
              "        filter: drop-shadow(0px 1px 2px rgba(0, 0, 0, 0.3));\n",
              "        fill: #FFFFFF;\n",
              "      }\n",
              "    </style>\n",
              "    <button class=\"colab-df-generate\" onclick=\"generateWithVariable('df')\"\n",
              "            title=\"Generate code using this dataframe.\"\n",
              "            style=\"display:none;\">\n",
              "\n",
              "  <svg xmlns=\"http://www.w3.org/2000/svg\" height=\"24px\"viewBox=\"0 0 24 24\"\n",
              "       width=\"24px\">\n",
              "    <path d=\"M7,19H8.4L18.45,9,17,7.55,7,17.6ZM5,21V16.75L18.45,3.32a2,2,0,0,1,2.83,0l1.4,1.43a1.91,1.91,0,0,1,.58,1.4,1.91,1.91,0,0,1-.58,1.4L9.25,21ZM18.45,9,17,7.55Zm-12,3A5.31,5.31,0,0,0,4.9,8.1,5.31,5.31,0,0,0,1,6.5,5.31,5.31,0,0,0,4.9,4.9,5.31,5.31,0,0,0,6.5,1,5.31,5.31,0,0,0,8.1,4.9,5.31,5.31,0,0,0,12,6.5,5.46,5.46,0,0,0,6.5,12Z\"/>\n",
              "  </svg>\n",
              "    </button>\n",
              "    <script>\n",
              "      (() => {\n",
              "      const buttonEl =\n",
              "        document.querySelector('#id_8fe9fd49-d404-4bfa-8b10-a6bc53249681 button.colab-df-generate');\n",
              "      buttonEl.style.display =\n",
              "        google.colab.kernel.accessAllowed ? 'block' : 'none';\n",
              "\n",
              "      buttonEl.onclick = () => {\n",
              "        google.colab.notebook.generateWithVariable('df');\n",
              "      }\n",
              "      })();\n",
              "    </script>\n",
              "  </div>\n",
              "\n",
              "    </div>\n",
              "  </div>\n"
            ],
            "application/vnd.google.colaboratory.intrinsic+json": {
              "type": "dataframe",
              "variable_name": "df",
              "summary": "{\n  \"name\": \"df\",\n  \"rows\": 10,\n  \"fields\": [\n    {\n      \"column\": \"column_0\",\n      \"properties\": {\n        \"dtype\": \"number\",\n        \"std\": 0.29528462755609336,\n        \"min\": 0.14409537236443715,\n        \"max\": 0.9730889713746519,\n        \"num_unique_values\": 10,\n        \"samples\": [\n          0.6254761978712406,\n          0.23767283588885801,\n          0.7604499941958167\n        ],\n        \"semantic_type\": \"\",\n        \"description\": \"\"\n      }\n    },\n    {\n      \"column\": \"column_1\",\n      \"properties\": {\n        \"dtype\": \"number\",\n        \"std\": 0.23181625412205759,\n        \"min\": 0.09658718116128084,\n        \"max\": 0.7893511298747166,\n        \"num_unique_values\": 10,\n        \"samples\": [\n          0.6201676480146321,\n          0.6048803365696105,\n          0.2938959445063549\n        ],\n        \"semantic_type\": \"\",\n        \"description\": \"\"\n      }\n    },\n    {\n      \"column\": \"column_2\",\n      \"properties\": {\n        \"dtype\": \"number\",\n        \"std\": 0.27013072888920464,\n        \"min\": 0.035491139024905194,\n        \"max\": 0.8188179657322349,\n        \"num_unique_values\": 10,\n        \"samples\": [\n          0.1792429608745808,\n          0.3240959171294383,\n          0.5929960685771213\n        ],\n        \"semantic_type\": \"\",\n        \"description\": \"\"\n      }\n    },\n    {\n      \"column\": \"column_3\",\n      \"properties\": {\n        \"dtype\": \"number\",\n        \"std\": 0.33134595471169376,\n        \"min\": 0.005594776882051344,\n        \"max\": 0.8796843169566498,\n        \"num_unique_values\": 10,\n        \"samples\": [\n          0.6070170632682381,\n          0.09140816627711046,\n          0.8796843169566498\n        ],\n        \"semantic_type\": \"\",\n        \"description\": \"\"\n      }\n    },\n    {\n      \"column\": \"column_4\",\n      \"properties\": {\n        \"dtype\": \"number\",\n        \"std\": 0.2781477140825736,\n        \"min\": 0.1313603100812294,\n        \"max\": 0.9119956254329153,\n        \"num_unique_values\": 10,\n        \"samples\": [\n          0.31255780349168605,\n          0.4812405452984121,\n          0.7351804476076225\n        ],\n        \"semantic_type\": \"\",\n        \"description\": \"\"\n      }\n    },\n    {\n      \"column\": \"column_6\",\n      \"properties\": {\n        \"dtype\": \"number\",\n        \"std\": 0.3231847488271493,\n        \"min\": 0.8425531724584685,\n        \"max\": 1.7613454455752138,\n        \"num_unique_values\": 10,\n        \"samples\": [\n          1.2456438458858727,\n          0.8425531724584685,\n          1.0543459387021716\n        ],\n        \"semantic_type\": \"\",\n        \"description\": \"\"\n      }\n    }\n  ]\n}"
            }
          },
          "metadata": {},
          "execution_count": 57
        }
      ]
    },
    {
      "cell_type": "code",
      "source": [
        "df.describe() # Calculate the statistics for each column"
      ],
      "metadata": {
        "colab": {
          "base_uri": "https://localhost:8080/",
          "height": 300
        },
        "id": "QtDeQ3kqGXaK",
        "outputId": "4d507fc2-9d4d-40cc-fdc5-7aac170ae961"
      },
      "id": "QtDeQ3kqGXaK",
      "execution_count": null,
      "outputs": [
        {
          "output_type": "execute_result",
          "data": {
            "text/plain": [
              "        column_0   column_1   column_2   column_3   column_4   column_6\n",
              "count  10.000000  10.000000  10.000000  10.000000  10.000000  10.000000\n",
              "mean    0.682116   0.570602   0.417377   0.529889   0.507277   1.252719\n",
              "std     0.295285   0.231816   0.270131   0.331346   0.278148   0.323185\n",
              "min     0.144095   0.096587   0.035491   0.005595   0.131360   0.842553\n",
              "25%     0.566821   0.445933   0.215456   0.327654   0.260195   0.989432\n",
              "50%     0.762813   0.667338   0.391441   0.530274   0.518944   1.255705\n",
              "75%     0.911353   0.717691   0.616596   0.845233   0.737539   1.485325\n",
              "max     0.973089   0.789351   0.818818   0.879684   0.911996   1.761345"
            ],
            "text/html": [
              "\n",
              "  <div id=\"df-1c6dacdb-ca87-4517-9f83-3f143c6e55dc\" class=\"colab-df-container\">\n",
              "    <div>\n",
              "<style scoped>\n",
              "    .dataframe tbody tr th:only-of-type {\n",
              "        vertical-align: middle;\n",
              "    }\n",
              "\n",
              "    .dataframe tbody tr th {\n",
              "        vertical-align: top;\n",
              "    }\n",
              "\n",
              "    .dataframe thead th {\n",
              "        text-align: right;\n",
              "    }\n",
              "</style>\n",
              "<table border=\"1\" class=\"dataframe\">\n",
              "  <thead>\n",
              "    <tr style=\"text-align: right;\">\n",
              "      <th></th>\n",
              "      <th>column_0</th>\n",
              "      <th>column_1</th>\n",
              "      <th>column_2</th>\n",
              "      <th>column_3</th>\n",
              "      <th>column_4</th>\n",
              "      <th>column_6</th>\n",
              "    </tr>\n",
              "  </thead>\n",
              "  <tbody>\n",
              "    <tr>\n",
              "      <th>count</th>\n",
              "      <td>10.000000</td>\n",
              "      <td>10.000000</td>\n",
              "      <td>10.000000</td>\n",
              "      <td>10.000000</td>\n",
              "      <td>10.000000</td>\n",
              "      <td>10.000000</td>\n",
              "    </tr>\n",
              "    <tr>\n",
              "      <th>mean</th>\n",
              "      <td>0.682116</td>\n",
              "      <td>0.570602</td>\n",
              "      <td>0.417377</td>\n",
              "      <td>0.529889</td>\n",
              "      <td>0.507277</td>\n",
              "      <td>1.252719</td>\n",
              "    </tr>\n",
              "    <tr>\n",
              "      <th>std</th>\n",
              "      <td>0.295285</td>\n",
              "      <td>0.231816</td>\n",
              "      <td>0.270131</td>\n",
              "      <td>0.331346</td>\n",
              "      <td>0.278148</td>\n",
              "      <td>0.323185</td>\n",
              "    </tr>\n",
              "    <tr>\n",
              "      <th>min</th>\n",
              "      <td>0.144095</td>\n",
              "      <td>0.096587</td>\n",
              "      <td>0.035491</td>\n",
              "      <td>0.005595</td>\n",
              "      <td>0.131360</td>\n",
              "      <td>0.842553</td>\n",
              "    </tr>\n",
              "    <tr>\n",
              "      <th>25%</th>\n",
              "      <td>0.566821</td>\n",
              "      <td>0.445933</td>\n",
              "      <td>0.215456</td>\n",
              "      <td>0.327654</td>\n",
              "      <td>0.260195</td>\n",
              "      <td>0.989432</td>\n",
              "    </tr>\n",
              "    <tr>\n",
              "      <th>50%</th>\n",
              "      <td>0.762813</td>\n",
              "      <td>0.667338</td>\n",
              "      <td>0.391441</td>\n",
              "      <td>0.530274</td>\n",
              "      <td>0.518944</td>\n",
              "      <td>1.255705</td>\n",
              "    </tr>\n",
              "    <tr>\n",
              "      <th>75%</th>\n",
              "      <td>0.911353</td>\n",
              "      <td>0.717691</td>\n",
              "      <td>0.616596</td>\n",
              "      <td>0.845233</td>\n",
              "      <td>0.737539</td>\n",
              "      <td>1.485325</td>\n",
              "    </tr>\n",
              "    <tr>\n",
              "      <th>max</th>\n",
              "      <td>0.973089</td>\n",
              "      <td>0.789351</td>\n",
              "      <td>0.818818</td>\n",
              "      <td>0.879684</td>\n",
              "      <td>0.911996</td>\n",
              "      <td>1.761345</td>\n",
              "    </tr>\n",
              "  </tbody>\n",
              "</table>\n",
              "</div>\n",
              "    <div class=\"colab-df-buttons\">\n",
              "\n",
              "  <div class=\"colab-df-container\">\n",
              "    <button class=\"colab-df-convert\" onclick=\"convertToInteractive('df-1c6dacdb-ca87-4517-9f83-3f143c6e55dc')\"\n",
              "            title=\"Convert this dataframe to an interactive table.\"\n",
              "            style=\"display:none;\">\n",
              "\n",
              "  <svg xmlns=\"http://www.w3.org/2000/svg\" height=\"24px\" viewBox=\"0 -960 960 960\">\n",
              "    <path d=\"M120-120v-720h720v720H120Zm60-500h600v-160H180v160Zm220 220h160v-160H400v160Zm0 220h160v-160H400v160ZM180-400h160v-160H180v160Zm440 0h160v-160H620v160ZM180-180h160v-160H180v160Zm440 0h160v-160H620v160Z\"/>\n",
              "  </svg>\n",
              "    </button>\n",
              "\n",
              "  <style>\n",
              "    .colab-df-container {\n",
              "      display:flex;\n",
              "      gap: 12px;\n",
              "    }\n",
              "\n",
              "    .colab-df-convert {\n",
              "      background-color: #E8F0FE;\n",
              "      border: none;\n",
              "      border-radius: 50%;\n",
              "      cursor: pointer;\n",
              "      display: none;\n",
              "      fill: #1967D2;\n",
              "      height: 32px;\n",
              "      padding: 0 0 0 0;\n",
              "      width: 32px;\n",
              "    }\n",
              "\n",
              "    .colab-df-convert:hover {\n",
              "      background-color: #E2EBFA;\n",
              "      box-shadow: 0px 1px 2px rgba(60, 64, 67, 0.3), 0px 1px 3px 1px rgba(60, 64, 67, 0.15);\n",
              "      fill: #174EA6;\n",
              "    }\n",
              "\n",
              "    .colab-df-buttons div {\n",
              "      margin-bottom: 4px;\n",
              "    }\n",
              "\n",
              "    [theme=dark] .colab-df-convert {\n",
              "      background-color: #3B4455;\n",
              "      fill: #D2E3FC;\n",
              "    }\n",
              "\n",
              "    [theme=dark] .colab-df-convert:hover {\n",
              "      background-color: #434B5C;\n",
              "      box-shadow: 0px 1px 3px 1px rgba(0, 0, 0, 0.15);\n",
              "      filter: drop-shadow(0px 1px 2px rgba(0, 0, 0, 0.3));\n",
              "      fill: #FFFFFF;\n",
              "    }\n",
              "  </style>\n",
              "\n",
              "    <script>\n",
              "      const buttonEl =\n",
              "        document.querySelector('#df-1c6dacdb-ca87-4517-9f83-3f143c6e55dc button.colab-df-convert');\n",
              "      buttonEl.style.display =\n",
              "        google.colab.kernel.accessAllowed ? 'block' : 'none';\n",
              "\n",
              "      async function convertToInteractive(key) {\n",
              "        const element = document.querySelector('#df-1c6dacdb-ca87-4517-9f83-3f143c6e55dc');\n",
              "        const dataTable =\n",
              "          await google.colab.kernel.invokeFunction('convertToInteractive',\n",
              "                                                    [key], {});\n",
              "        if (!dataTable) return;\n",
              "\n",
              "        const docLinkHtml = 'Like what you see? Visit the ' +\n",
              "          '<a target=\"_blank\" href=https://colab.research.google.com/notebooks/data_table.ipynb>data table notebook</a>'\n",
              "          + ' to learn more about interactive tables.';\n",
              "        element.innerHTML = '';\n",
              "        dataTable['output_type'] = 'display_data';\n",
              "        await google.colab.output.renderOutput(dataTable, element);\n",
              "        const docLink = document.createElement('div');\n",
              "        docLink.innerHTML = docLinkHtml;\n",
              "        element.appendChild(docLink);\n",
              "      }\n",
              "    </script>\n",
              "  </div>\n",
              "\n",
              "\n",
              "<div id=\"df-886204c6-93e2-4063-bd0a-dc7ece52edca\">\n",
              "  <button class=\"colab-df-quickchart\" onclick=\"quickchart('df-886204c6-93e2-4063-bd0a-dc7ece52edca')\"\n",
              "            title=\"Suggest charts\"\n",
              "            style=\"display:none;\">\n",
              "\n",
              "<svg xmlns=\"http://www.w3.org/2000/svg\" height=\"24px\"viewBox=\"0 0 24 24\"\n",
              "     width=\"24px\">\n",
              "    <g>\n",
              "        <path d=\"M19 3H5c-1.1 0-2 .9-2 2v14c0 1.1.9 2 2 2h14c1.1 0 2-.9 2-2V5c0-1.1-.9-2-2-2zM9 17H7v-7h2v7zm4 0h-2V7h2v10zm4 0h-2v-4h2v4z\"/>\n",
              "    </g>\n",
              "</svg>\n",
              "  </button>\n",
              "\n",
              "<style>\n",
              "  .colab-df-quickchart {\n",
              "      --bg-color: #E8F0FE;\n",
              "      --fill-color: #1967D2;\n",
              "      --hover-bg-color: #E2EBFA;\n",
              "      --hover-fill-color: #174EA6;\n",
              "      --disabled-fill-color: #AAA;\n",
              "      --disabled-bg-color: #DDD;\n",
              "  }\n",
              "\n",
              "  [theme=dark] .colab-df-quickchart {\n",
              "      --bg-color: #3B4455;\n",
              "      --fill-color: #D2E3FC;\n",
              "      --hover-bg-color: #434B5C;\n",
              "      --hover-fill-color: #FFFFFF;\n",
              "      --disabled-bg-color: #3B4455;\n",
              "      --disabled-fill-color: #666;\n",
              "  }\n",
              "\n",
              "  .colab-df-quickchart {\n",
              "    background-color: var(--bg-color);\n",
              "    border: none;\n",
              "    border-radius: 50%;\n",
              "    cursor: pointer;\n",
              "    display: none;\n",
              "    fill: var(--fill-color);\n",
              "    height: 32px;\n",
              "    padding: 0;\n",
              "    width: 32px;\n",
              "  }\n",
              "\n",
              "  .colab-df-quickchart:hover {\n",
              "    background-color: var(--hover-bg-color);\n",
              "    box-shadow: 0 1px 2px rgba(60, 64, 67, 0.3), 0 1px 3px 1px rgba(60, 64, 67, 0.15);\n",
              "    fill: var(--button-hover-fill-color);\n",
              "  }\n",
              "\n",
              "  .colab-df-quickchart-complete:disabled,\n",
              "  .colab-df-quickchart-complete:disabled:hover {\n",
              "    background-color: var(--disabled-bg-color);\n",
              "    fill: var(--disabled-fill-color);\n",
              "    box-shadow: none;\n",
              "  }\n",
              "\n",
              "  .colab-df-spinner {\n",
              "    border: 2px solid var(--fill-color);\n",
              "    border-color: transparent;\n",
              "    border-bottom-color: var(--fill-color);\n",
              "    animation:\n",
              "      spin 1s steps(1) infinite;\n",
              "  }\n",
              "\n",
              "  @keyframes spin {\n",
              "    0% {\n",
              "      border-color: transparent;\n",
              "      border-bottom-color: var(--fill-color);\n",
              "      border-left-color: var(--fill-color);\n",
              "    }\n",
              "    20% {\n",
              "      border-color: transparent;\n",
              "      border-left-color: var(--fill-color);\n",
              "      border-top-color: var(--fill-color);\n",
              "    }\n",
              "    30% {\n",
              "      border-color: transparent;\n",
              "      border-left-color: var(--fill-color);\n",
              "      border-top-color: var(--fill-color);\n",
              "      border-right-color: var(--fill-color);\n",
              "    }\n",
              "    40% {\n",
              "      border-color: transparent;\n",
              "      border-right-color: var(--fill-color);\n",
              "      border-top-color: var(--fill-color);\n",
              "    }\n",
              "    60% {\n",
              "      border-color: transparent;\n",
              "      border-right-color: var(--fill-color);\n",
              "    }\n",
              "    80% {\n",
              "      border-color: transparent;\n",
              "      border-right-color: var(--fill-color);\n",
              "      border-bottom-color: var(--fill-color);\n",
              "    }\n",
              "    90% {\n",
              "      border-color: transparent;\n",
              "      border-bottom-color: var(--fill-color);\n",
              "    }\n",
              "  }\n",
              "</style>\n",
              "\n",
              "  <script>\n",
              "    async function quickchart(key) {\n",
              "      const quickchartButtonEl =\n",
              "        document.querySelector('#' + key + ' button');\n",
              "      quickchartButtonEl.disabled = true;  // To prevent multiple clicks.\n",
              "      quickchartButtonEl.classList.add('colab-df-spinner');\n",
              "      try {\n",
              "        const charts = await google.colab.kernel.invokeFunction(\n",
              "            'suggestCharts', [key], {});\n",
              "      } catch (error) {\n",
              "        console.error('Error during call to suggestCharts:', error);\n",
              "      }\n",
              "      quickchartButtonEl.classList.remove('colab-df-spinner');\n",
              "      quickchartButtonEl.classList.add('colab-df-quickchart-complete');\n",
              "    }\n",
              "    (() => {\n",
              "      let quickchartButtonEl =\n",
              "        document.querySelector('#df-886204c6-93e2-4063-bd0a-dc7ece52edca button');\n",
              "      quickchartButtonEl.style.display =\n",
              "        google.colab.kernel.accessAllowed ? 'block' : 'none';\n",
              "    })();\n",
              "  </script>\n",
              "</div>\n",
              "\n",
              "    </div>\n",
              "  </div>\n"
            ],
            "application/vnd.google.colaboratory.intrinsic+json": {
              "type": "dataframe",
              "summary": "{\n  \"name\": \"df\",\n  \"rows\": 8,\n  \"fields\": [\n    {\n      \"column\": \"column_0\",\n      \"properties\": {\n        \"dtype\": \"number\",\n        \"std\": 3.32877703088403,\n        \"min\": 0.14409537236443715,\n        \"max\": 10.0,\n        \"num_unique_values\": 8,\n        \"samples\": [\n          0.6821164837158906,\n          0.7628130654093249,\n          10.0\n        ],\n        \"semantic_type\": \"\",\n        \"description\": \"\"\n      }\n    },\n    {\n      \"column\": \"column_1\",\n      \"properties\": {\n        \"dtype\": \"number\",\n        \"std\": 3.366314408130987,\n        \"min\": 0.09658718116128084,\n        \"max\": 10.0,\n        \"num_unique_values\": 8,\n        \"samples\": [\n          0.5706021360676576,\n          0.667338407354604,\n          10.0\n        ],\n        \"semantic_type\": \"\",\n        \"description\": \"\"\n      }\n    },\n    {\n      \"column\": \"column_2\",\n      \"properties\": {\n        \"dtype\": \"number\",\n        \"std\": 3.4044003906585343,\n        \"min\": 0.035491139024905194,\n        \"max\": 10.0,\n        \"num_unique_values\": 8,\n        \"samples\": [\n          0.4173765410087665,\n          0.39144087953581164,\n          10.0\n        ],\n        \"semantic_type\": \"\",\n        \"description\": \"\"\n      }\n    },\n    {\n      \"column\": \"column_3\",\n      \"properties\": {\n        \"dtype\": \"number\",\n        \"std\": 3.3733344326412724,\n        \"min\": 0.005594776882051344,\n        \"max\": 10.0,\n        \"num_unique_values\": 8,\n        \"samples\": [\n          0.5298891465500304,\n          0.5302736433633585,\n          10.0\n        ],\n        \"semantic_type\": \"\",\n        \"description\": \"\"\n      }\n    },\n    {\n      \"column\": \"column_4\",\n      \"properties\": {\n        \"dtype\": \"number\",\n        \"std\": 3.3764308435843056,\n        \"min\": 0.1313603100812294,\n        \"max\": 10.0,\n        \"num_unique_values\": 8,\n        \"samples\": [\n          0.50727679795497,\n          0.5189444514875488,\n          10.0\n        ],\n        \"semantic_type\": \"\",\n        \"description\": \"\"\n      }\n    },\n    {\n      \"column\": \"column_6\",\n      \"properties\": {\n        \"dtype\": \"number\",\n        \"std\": 3.165680991442678,\n        \"min\": 0.3231847488271493,\n        \"max\": 10.0,\n        \"num_unique_values\": 8,\n        \"samples\": [\n          1.2527186197835483,\n          1.2557054011491608,\n          10.0\n        ],\n        \"semantic_type\": \"\",\n        \"description\": \"\"\n      }\n    }\n  ]\n}"
            }
          },
          "metadata": {},
          "execution_count": 58
        }
      ]
    },
    {
      "cell_type": "code",
      "source": [],
      "metadata": {
        "id": "BuihwbzHG4D1"
      },
      "id": "BuihwbzHG4D1",
      "execution_count": null,
      "outputs": []
    }
  ],
  "metadata": {
    "kernelspec": {
      "display_name": "Python 3 (ipykernel)",
      "language": "python",
      "name": "python3"
    },
    "language_info": {
      "codemirror_mode": {
        "name": "ipython",
        "version": 3
      },
      "file_extension": ".py",
      "mimetype": "text/x-python",
      "name": "python",
      "nbconvert_exporter": "python",
      "pygments_lexer": "ipython3",
      "version": "3.10.14"
    },
    "colab": {
      "provenance": [],
      "include_colab_link": true
    }
  },
  "nbformat": 4,
  "nbformat_minor": 5
}